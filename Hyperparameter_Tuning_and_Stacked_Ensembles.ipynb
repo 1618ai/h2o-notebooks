{
 "cells": [
  {
   "cell_type": "code",
   "execution_count": null,
   "metadata": {},
   "outputs": [],
   "source": [
    "Build base learners with hyperparameter search. Base algorithms: GLM, GBM, and Deep Learning\n",
    "    \n",
    "Hyperparameter Search\n",
    "    Random discrete\n",
    "    Five maximum models\n",
    "Common Algorithm Parameters\n",
    "    5-fold cross-validation\n",
    "    Modulo fold assignment\n",
    "GLM Search Space\n",
    "    Alpha (Regularization distribution): 0 to 1 by 0.1\n",
    "    Lambda (Regularization strength): 0, 1e-7, 1e-5, 1e-3, 1e-1\n",
    "GBM Search Space\n",
    "    Learning Rate: 0.01, 0.03\n",
    "    Maximum Tree Depth: 3, 4, 5, 6, 9\n",
    "    Row Sample Rate: 0.7, 0.8, 0.9, 1\n",
    "    Column Sample Rate: 0.2 0.3, 0.4, 0.5, 0.6, 0.7, 0.8\n",
    "Deep Learning Search Space\n",
    "    Activations: Rectifier, Rectifier with Dropout\n",
    "    Hidden Layers and Units: (10,10), (20,15), (50,50,50)\n",
    "    L1 Regularization: 0, 1e-3, 1e-5\n",
    "    L2 Regularization: 0, 1e-3, 1e-5\n",
    "\n",
    "Ensemble all the models\n",
    "Evaluate the ensemble performance on the test set"
   ]
  },
  {
   "cell_type": "code",
   "execution_count": 1,
   "metadata": {},
   "outputs": [
    {
     "name": "stdout",
     "output_type": "stream",
     "text": [
      "Checking whether there is an H2O instance running at http://localhost:54321 . connected.\n"
     ]
    },
    {
     "data": {
      "text/html": [
       "<div style=\"overflow:auto\"><table style=\"width:50%\"><tr><td>H2O cluster uptime:</td>\n",
       "<td>35 mins 00 secs</td></tr>\n",
       "<tr><td>H2O cluster timezone:</td>\n",
       "<td>America/New_York</td></tr>\n",
       "<tr><td>H2O data parsing timezone:</td>\n",
       "<td>UTC</td></tr>\n",
       "<tr><td>H2O cluster version:</td>\n",
       "<td>3.24.0.2</td></tr>\n",
       "<tr><td>H2O cluster version age:</td>\n",
       "<td>13 days </td></tr>\n",
       "<tr><td>H2O cluster name:</td>\n",
       "<td>H2O_from_python_praveen_lv5xcq</td></tr>\n",
       "<tr><td>H2O cluster total nodes:</td>\n",
       "<td>1</td></tr>\n",
       "<tr><td>H2O cluster free memory:</td>\n",
       "<td>1.374 Gb</td></tr>\n",
       "<tr><td>H2O cluster total cores:</td>\n",
       "<td>4</td></tr>\n",
       "<tr><td>H2O cluster allowed cores:</td>\n",
       "<td>4</td></tr>\n",
       "<tr><td>H2O cluster status:</td>\n",
       "<td>locked, healthy</td></tr>\n",
       "<tr><td>H2O connection url:</td>\n",
       "<td>http://localhost:54321</td></tr>\n",
       "<tr><td>H2O connection proxy:</td>\n",
       "<td>None</td></tr>\n",
       "<tr><td>H2O internal security:</td>\n",
       "<td>False</td></tr>\n",
       "<tr><td>H2O API Extensions:</td>\n",
       "<td>Amazon S3, XGBoost, Algos, AutoML, Core V3, Core V4</td></tr>\n",
       "<tr><td>Python version:</td>\n",
       "<td>3.6.8 final</td></tr></table></div>"
      ],
      "text/plain": [
       "--------------------------  ---------------------------------------------------\n",
       "H2O cluster uptime:         35 mins 00 secs\n",
       "H2O cluster timezone:       America/New_York\n",
       "H2O data parsing timezone:  UTC\n",
       "H2O cluster version:        3.24.0.2\n",
       "H2O cluster version age:    13 days\n",
       "H2O cluster name:           H2O_from_python_praveen_lv5xcq\n",
       "H2O cluster total nodes:    1\n",
       "H2O cluster free memory:    1.374 Gb\n",
       "H2O cluster total cores:    4\n",
       "H2O cluster allowed cores:  4\n",
       "H2O cluster status:         locked, healthy\n",
       "H2O connection url:         http://localhost:54321\n",
       "H2O connection proxy:\n",
       "H2O internal security:      False\n",
       "H2O API Extensions:         Amazon S3, XGBoost, Algos, AutoML, Core V3, Core V4\n",
       "Python version:             3.6.8 final\n",
       "--------------------------  ---------------------------------------------------"
      ]
     },
     "metadata": {},
     "output_type": "display_data"
    }
   ],
   "source": [
    "import h2o\n",
    "h2o.init(nthreads=-1)"
   ]
  },
  {
   "cell_type": "code",
   "execution_count": 2,
   "metadata": {},
   "outputs": [
    {
     "name": "stdout",
     "output_type": "stream",
     "text": [
      "Parse progress: |█████████████████████████████████████████████████████████| 100%\n"
     ]
    }
   ],
   "source": [
    "data_path = \"../data/airlines.csv\"\n",
    "airlines_df = h2o.import_file(data_path)"
   ]
  },
  {
   "cell_type": "code",
   "execution_count": 3,
   "metadata": {},
   "outputs": [],
   "source": [
    "## New time parameters - to convert non-continuous clock-time to elapsed minutes since midnight\n",
    "#CRS times\n",
    "hours = airlines_df[\"CRSArrTime\"] // 100\n",
    "mins = airlines_df[\"CRSArrTime\"] % 100\n",
    "CRSarrTimeMins = hours*60+mins\n",
    "hours = airlines_df[\"CRSDepTime\"] // 100\n",
    "mins = airlines_df[\"CRSDepTime\"] % 100\n",
    "CRSdepTimeMins = hours*60+mins\n",
    "airlines_df[\"CRSarrTimeMins\"]  = CRSarrTimeMins\n",
    "airlines_df[\"CRSdepTimeMins\"]  = CRSdepTimeMins\n",
    "\n",
    "#Actual times\n",
    "hours = airlines_df[\"ArrTime\"] // 100\n",
    "mins = airlines_df[\"ArrTime\"] % 100\n",
    "arrTimeMins = hours*60+mins\n",
    "hours = airlines_df[\"DepTime\"] // 100\n",
    "mins = airlines_df[\"DepTime\"] % 100\n",
    "depTimeMins = hours*60+mins\n",
    "airlines_df[\"ArrTimeMins\"]  = arrTimeMins\n",
    "airlines_df[\"DepTimeMins\"]  = depTimeMins\n",
    "\n",
    "travelTime = (airlines_df[\"DepTimeMins\"] - airlines_df[\"ArrTimeMins\"] > 0).ifelse(airlines_df[\"DepTimeMins\"] - airlines_df[\"ArrTimeMins\"], airlines_df[\"ArrTimeMins\"] - airlines_df[\"DepTimeMins\"])\n",
    "airlines_df[\"TravelTime\"]  = travelTime"
   ]
  },
  {
   "cell_type": "code",
   "execution_count": 4,
   "metadata": {},
   "outputs": [],
   "source": [
    "data_split = airlines_df.split_frame(ratios=[0.8], seed=12345)\n",
    "Yvar = \"IsDepDelayed\"\n",
    "Xvar = [\"Year\", \"Month\", \"DayofMonth\", \"DayOfWeek\", \"CRSarrTimeMins\", \"CRSdepTimeMins\", \"ArrTimeMins\", \"DepTimeMins\", \"Dest\"]"
   ]
  },
  {
   "cell_type": "code",
   "execution_count": 5,
   "metadata": {},
   "outputs": [],
   "source": [
    "#airlines_df.describe()"
   ]
  },
  {
   "cell_type": "code",
   "execution_count": 6,
   "metadata": {},
   "outputs": [],
   "source": [
    "# Import H2O Grid Search:\n",
    "from h2o.grid.grid_search import H2OGridSearch\n",
    "\n",
    "# Import estimators\n",
    "from h2o.estimators.glm import H2OGeneralizedLinearEstimator\n",
    "from h2o.estimators.gbm import H2OGradientBoostingEstimator\n",
    "from h2o.estimators.deeplearning import H2ODeepLearningEstimator"
   ]
  },
  {
   "cell_type": "code",
   "execution_count": 7,
   "metadata": {},
   "outputs": [],
   "source": [
    "# Search criteria\n",
    "search_criteria = {'strategy': 'RandomDiscrete', 'max_models': 5, 'seed': 1618}\n",
    "\n",
    "#Hyperparameters\n",
    "common_params = {'nfolds': 5, 'fold_assignment': 'Modulo', 'keep_cross_validation_predictions': True} \n",
    "#last param needed for Ensemble to work\n",
    "\n",
    "glm_params = {'alpha': [i * 0.1 for i in range(0, 10)], \n",
    "                'lambda': [0, 1e-7, 1e-5, 1e-1]}\n",
    "\n",
    "gbm_params = {'learn_rate': [0.01, 0.03],\n",
    "                'max_depth': [3, 4, 5, 6, 9],\n",
    "                'sample_rate': [0.7, 0.8, 0.9, 1],\n",
    "                'col_sample_rate': [i * 0.1 for i in range(2, 8)]}\n",
    "\n",
    "dl_params = {'activation': ['Rectifier', 'RectifierWithDropout'],\n",
    "                'hidden': [[10,10], [20,15], [50,50,50]],\n",
    "                'l1': [0, 1e-3, 1e-5],\n",
    "                'l2': [0, 1e-3, 1e-5]}\n",
    "\n",
    "#{**glm_params, **common_params}"
   ]
  },
  {
   "cell_type": "markdown",
   "metadata": {},
   "source": [
    "<div align=\"center\"><b>   Generalized Linear Model   </b></div>"
   ]
  },
  {
   "cell_type": "code",
   "execution_count": 8,
   "metadata": {},
   "outputs": [
    {
     "name": "stdout",
     "output_type": "stream",
     "text": [
      "glm Grid Build progress: |████████████████████████████████████████████████| 100%\n"
     ]
    }
   ],
   "source": [
    "#GLM\n",
    "glm_grid = H2OGridSearch(H2OGeneralizedLinearEstimator(family = 'binomial', \n",
    "                                                       lambda_search = True, \n",
    "                                                       standardize = True, \n",
    "                                                       **common_params),\n",
    "                        glm_params, \n",
    "                        grid_id=\"GLM\", \n",
    "                        search_criteria=search_criteria)\n",
    "\n",
    "glm_grid.train(x=Xvar, y=Yvar, training_frame=data_split[0])\n",
    "#glm_grid.hyper_params\n",
    "#validation_frame=data_split[1]"
   ]
  },
  {
   "cell_type": "code",
   "execution_count": 9,
   "metadata": {},
   "outputs": [
    {
     "name": "stdout",
     "output_type": "stream",
     "text": [
      "                     alpha    lambda    model_ids                 auc\n",
      "0    [0.30000000000000004]  [1.0E-5]  GLM_model_3  0.6834277255289434\n",
      "1                    [0.4]  [1.0E-5]  GLM_model_4  0.6834228481792217\n",
      "2     [0.6000000000000001]  [1.0E-7]  GLM_model_5  0.6831933838121061\n",
      "3    [0.30000000000000004]     [0.0]  GLM_model_2  0.6831794093283996\n",
      "4                    [0.2]     [0.1]  GLM_model_1   0.628758819511472\n",
      "\n"
     ]
    }
   ],
   "source": [
    "glm_grid_perf = glm_grid.get_grid(sort_by='auc', decreasing=True)\n",
    "print (glm_grid_perf)"
   ]
  },
  {
   "cell_type": "code",
   "execution_count": 10,
   "metadata": {},
   "outputs": [
    {
     "name": "stdout",
     "output_type": "stream",
     "text": [
      "0.6852129385214988\n"
     ]
    }
   ],
   "source": [
    "glm_best_perf = glm_grid_perf.models[0]\n",
    "glm_best_res = glm_best_perf.model_performance(data_split[1])\n",
    "print (glm_best_res.auc())"
   ]
  },
  {
   "cell_type": "markdown",
   "metadata": {},
   "source": [
    "<div align=\"center\"><b>   Gradient Boosting Machine   </b></div>"
   ]
  },
  {
   "cell_type": "code",
   "execution_count": 11,
   "metadata": {},
   "outputs": [
    {
     "name": "stdout",
     "output_type": "stream",
     "text": [
      "gbm Grid Build progress: |████████████████████████████████████████████████| 100%\n"
     ]
    }
   ],
   "source": [
    "#GBM\n",
    "gbm_grid = H2OGridSearch(model=H2OGradientBoostingEstimator,\n",
    "                        grid_id='gbm_grid',\n",
    "                        hyper_params=gbm_params,\n",
    "                        search_criteria=search_criteria\n",
    "                        )\n",
    "\n",
    "gbm_grid.train(x=Xvar, y=Yvar, training_frame=data_split[0], seed=1618, **common_params)\n",
    "\n",
    "#"
   ]
  },
  {
   "cell_type": "code",
   "execution_count": 12,
   "metadata": {},
   "outputs": [
    {
     "name": "stdout",
     "output_type": "stream",
     "text": [
      "        col_sample_rate learn_rate max_depth sample_rate         model_ids  \\\n",
      "0                   0.5       0.03         6         0.8  gbm_grid_model_2   \n",
      "1                   0.4       0.03         6         1.0  gbm_grid_model_3   \n",
      "2    0.7000000000000001       0.03         3         1.0  gbm_grid_model_5   \n",
      "3    0.6000000000000001       0.01         5         0.8  gbm_grid_model_1   \n",
      "4    0.7000000000000001       0.01         4         1.0  gbm_grid_model_4   \n",
      "\n",
      "                  auc  \n",
      "0  0.7716159057739157  \n",
      "1  0.7696751313601468  \n",
      "2  0.7405449896674873  \n",
      "3  0.7349932408115895  \n",
      "4  0.7237610486096676  \n",
      "\n"
     ]
    }
   ],
   "source": [
    "gbm_grid_perf = gbm_grid.get_grid(sort_by='auc', decreasing=True)\n",
    "print (gbm_grid_perf)"
   ]
  },
  {
   "cell_type": "code",
   "execution_count": 13,
   "metadata": {},
   "outputs": [
    {
     "name": "stdout",
     "output_type": "stream",
     "text": [
      "0.7717567999421463\n"
     ]
    }
   ],
   "source": [
    "gbm_best_perf = gbm_grid_perf.models[0]\n",
    "gbm_best_res = gbm_best_perf.model_performance(data_split[1])\n",
    "print (gbm_best_res.auc())"
   ]
  },
  {
   "cell_type": "markdown",
   "metadata": {},
   "source": [
    "<div align=\"center\"><b>   Deep Learning   </b></div>"
   ]
  },
  {
   "cell_type": "code",
   "execution_count": 14,
   "metadata": {},
   "outputs": [
    {
     "name": "stdout",
     "output_type": "stream",
     "text": [
      "deeplearning Grid Build progress: |███████████████████████████████████████| 100%\n"
     ]
    }
   ],
   "source": [
    "dl_grid = H2OGridSearch(model=H2ODeepLearningEstimator,\n",
    "                        grid_id='dl_grid',\n",
    "                        hyper_params=dl_params,\n",
    "                        search_criteria=search_criteria)\n",
    "\n",
    "dl_grid.train(x=Xvar, y=Yvar, training_frame=data_split[0], seed=1618, **common_params)\n"
   ]
  },
  {
   "cell_type": "code",
   "execution_count": 15,
   "metadata": {},
   "outputs": [
    {
     "name": "stdout",
     "output_type": "stream",
     "text": [
      "               activation        hidden      l1      l2        model_ids  \\\n",
      "0               Rectifier  [50, 50, 50]     0.0  1.0E-5  dl_grid_model_3   \n",
      "1               Rectifier      [20, 15]  1.0E-5     0.0  dl_grid_model_2   \n",
      "2    RectifierWithDropout  [50, 50, 50]   0.001     0.0  dl_grid_model_5   \n",
      "3    RectifierWithDropout      [10, 10]  1.0E-5   0.001  dl_grid_model_4   \n",
      "4    RectifierWithDropout      [20, 15]   0.001  1.0E-5  dl_grid_model_1   \n",
      "\n",
      "                  auc  \n",
      "0  0.9186812924464998  \n",
      "1  0.9175529052488895  \n",
      "2  0.8357418110564595  \n",
      "3  0.8101480466578056  \n",
      "4  0.7903151823921623  \n",
      "\n"
     ]
    }
   ],
   "source": [
    "dl_grid_perf = dl_grid.get_grid(sort_by='auc', decreasing=True)\n",
    "print (dl_grid_perf)"
   ]
  },
  {
   "cell_type": "code",
   "execution_count": 16,
   "metadata": {},
   "outputs": [
    {
     "name": "stdout",
     "output_type": "stream",
     "text": [
      "0.9449746217192392\n"
     ]
    }
   ],
   "source": [
    "dl_best_perf = dl_grid_perf.models[0]\n",
    "dl_best_res = dl_best_perf.model_performance(data_split[1])\n",
    "print (dl_best_res.auc())"
   ]
  },
  {
   "cell_type": "markdown",
   "metadata": {},
   "source": [
    "<div align=\"center\"><b>   Ensembling   </b></div>"
   ]
  },
  {
   "cell_type": "code",
   "execution_count": 17,
   "metadata": {},
   "outputs": [
    {
     "name": "stdout",
     "output_type": "stream",
     "text": [
      "['GLM_model_3', 'GLM_model_4', 'GLM_model_5', 'GLM_model_2', 'GLM_model_1', 'gbm_grid_model_2', 'gbm_grid_model_3', 'gbm_grid_model_5', 'gbm_grid_model_1', 'gbm_grid_model_4', 'dl_grid_model_3', 'dl_grid_model_2', 'dl_grid_model_5', 'dl_grid_model_1', 'dl_grid_model_4']\n"
     ]
    }
   ],
   "source": [
    "all_models = glm_grid.model_ids + gbm_grid.model_ids + dl_grid.model_ids\n",
    "print(all_models)"
   ]
  },
  {
   "cell_type": "code",
   "execution_count": 18,
   "metadata": {},
   "outputs": [
    {
     "name": "stdout",
     "output_type": "stream",
     "text": [
      "stackedensemble Model Build progress: |███████████████████████████████████| 100%\n"
     ]
    }
   ],
   "source": [
    "from h2o.estimators.stackedensemble import H2OStackedEnsembleEstimator\n",
    "\n",
    "ensemble = H2OStackedEnsembleEstimator(model_id=\"ensemble_glm_gbm_dl\", \n",
    "                                       base_models=glm_grid.model_ids + gbm_grid.model_ids + dl_grid.model_ids,\n",
    "                                      )\n",
    "\n",
    "ensemble.train(x=Xvar, y=Yvar, training_frame=data_split[0])"
   ]
  },
  {
   "cell_type": "code",
   "execution_count": 19,
   "metadata": {},
   "outputs": [],
   "source": [
    "# Eval ensemble performance on the test data\n",
    "ensemble_perf = ensemble.model_performance(data_split[1])"
   ]
  },
  {
   "cell_type": "code",
   "execution_count": 21,
   "metadata": {},
   "outputs": [
    {
     "name": "stdout",
     "output_type": "stream",
     "text": [
      "Ensemble AUC on Validation data : 0.9483537528227052\n",
      "GLM AUC on Validation data : 0.6852129385214988\n",
      "GBM AUC on Validation data : 0.7717567999421463\n",
      "DL AUC on Validation data : 0.9449746217192392\n"
     ]
    }
   ],
   "source": [
    "print('Ensemble AUC on Validation data : ' + str(ensemble_perf.auc()))\n",
    "print('GLM AUC on Validation data : ' + str(glm_best_res.auc()))\n",
    "print('GBM AUC on Validation data : ' + str(gbm_best_res.auc()))\n",
    "print('DL AUC on Validation data : ' + str(dl_best_res.auc()))"
   ]
  },
  {
   "cell_type": "code",
   "execution_count": 166,
   "metadata": {},
   "outputs": [
    {
     "name": "stdout",
     "output_type": "stream",
     "text": [
      "H2O session _sid_94c5 closed.\n"
     ]
    }
   ],
   "source": [
    "#h2o.cluster().shutdown()"
   ]
  },
  {
   "cell_type": "code",
   "execution_count": null,
   "metadata": {},
   "outputs": [],
   "source": []
  }
 ],
 "metadata": {
  "kernelspec": {
   "display_name": "Python 3",
   "language": "python",
   "name": "python3"
  },
  "language_info": {
   "codemirror_mode": {
    "name": "ipython",
    "version": 3
   },
   "file_extension": ".py",
   "mimetype": "text/x-python",
   "name": "python",
   "nbconvert_exporter": "python",
   "pygments_lexer": "ipython3",
   "version": "3.7.3"
  }
 },
 "nbformat": 4,
 "nbformat_minor": 2
}
