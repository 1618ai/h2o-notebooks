{
 "cells": [
  {
   "cell_type": "code",
   "execution_count": 1,
   "metadata": {},
   "outputs": [],
   "source": [
    "import sys\n",
    "import h2o"
   ]
  },
  {
   "cell_type": "code",
   "execution_count": 2,
   "metadata": {},
   "outputs": [
    {
     "name": "stdout",
     "output_type": "stream",
     "text": [
      "Checking whether there is an H2O instance running at http://localhost:54321 . connected.\n"
     ]
    },
    {
     "data": {
      "text/html": [
       "<div style=\"overflow:auto\"><table style=\"width:50%\"><tr><td>H2O cluster uptime:</td>\n",
       "<td>1 day 3 hours 25 mins</td></tr>\n",
       "<tr><td>H2O cluster timezone:</td>\n",
       "<td>America/New_York</td></tr>\n",
       "<tr><td>H2O data parsing timezone:</td>\n",
       "<td>UTC</td></tr>\n",
       "<tr><td>H2O cluster version:</td>\n",
       "<td>3.24.0.2</td></tr>\n",
       "<tr><td>H2O cluster version age:</td>\n",
       "<td>27 days </td></tr>\n",
       "<tr><td>H2O cluster name:</td>\n",
       "<td>H2O_from_python_praveen_h1anyh</td></tr>\n",
       "<tr><td>H2O cluster total nodes:</td>\n",
       "<td>1</td></tr>\n",
       "<tr><td>H2O cluster free memory:</td>\n",
       "<td>2.932 Gb</td></tr>\n",
       "<tr><td>H2O cluster total cores:</td>\n",
       "<td>4</td></tr>\n",
       "<tr><td>H2O cluster allowed cores:</td>\n",
       "<td>4</td></tr>\n",
       "<tr><td>H2O cluster status:</td>\n",
       "<td>locked, healthy</td></tr>\n",
       "<tr><td>H2O connection url:</td>\n",
       "<td>http://localhost:54321</td></tr>\n",
       "<tr><td>H2O connection proxy:</td>\n",
       "<td>None</td></tr>\n",
       "<tr><td>H2O internal security:</td>\n",
       "<td>False</td></tr>\n",
       "<tr><td>H2O API Extensions:</td>\n",
       "<td>Amazon S3, XGBoost, Algos, AutoML, Core V3, Core V4</td></tr>\n",
       "<tr><td>Python version:</td>\n",
       "<td>3.6.8 final</td></tr></table></div>"
      ],
      "text/plain": [
       "--------------------------  ---------------------------------------------------\n",
       "H2O cluster uptime:         1 day 3 hours 25 mins\n",
       "H2O cluster timezone:       America/New_York\n",
       "H2O data parsing timezone:  UTC\n",
       "H2O cluster version:        3.24.0.2\n",
       "H2O cluster version age:    27 days\n",
       "H2O cluster name:           H2O_from_python_praveen_h1anyh\n",
       "H2O cluster total nodes:    1\n",
       "H2O cluster free memory:    2.932 Gb\n",
       "H2O cluster total cores:    4\n",
       "H2O cluster allowed cores:  4\n",
       "H2O cluster status:         locked, healthy\n",
       "H2O connection url:         http://localhost:54321\n",
       "H2O connection proxy:\n",
       "H2O internal security:      False\n",
       "H2O API Extensions:         Amazon S3, XGBoost, Algos, AutoML, Core V3, Core V4\n",
       "Python version:             3.6.8 final\n",
       "--------------------------  ---------------------------------------------------"
      ]
     },
     "metadata": {},
     "output_type": "display_data"
    }
   ],
   "source": [
    "h2o.init(nthreads=-1)"
   ]
  },
  {
   "cell_type": "code",
   "execution_count": 3,
   "metadata": {},
   "outputs": [
    {
     "name": "stdout",
     "output_type": "stream",
     "text": [
      "Parse progress: |█████████████████████████████████████████████████████████| 100%\n"
     ]
    }
   ],
   "source": [
    "#data_path = \"https://s3.amazonaws.com/h2o-public-test-data/smalldata/chicago/Chicago_Ohare_International_Airport.csv\"\n",
    "data_path = \"../data/weather.csv\"\n",
    "weather_df = h2o.import_file(data_path)"
   ]
  },
  {
   "cell_type": "code",
   "execution_count": 4,
   "metadata": {},
   "outputs": [],
   "source": [
    "# Extracting parts of date\n",
    "weather_df['Year'] = weather_df['Date'].year()\n",
    "weather_df['Month'] = weather_df['Date'].month()\n",
    "weather_df['DayofMonth'] = weather_df['Date'].day()"
   ]
  },
  {
   "cell_type": "code",
   "execution_count": 5,
   "metadata": {},
   "outputs": [
    {
     "name": "stdout",
     "output_type": "stream",
     "text": [
      "Parse progress: |█████████████████████████████████████████████████████████| 100%\n"
     ]
    }
   ],
   "source": [
    "#data_path = \"https://s3.amazonaws.com/h2o-airlines-unpacked/allyears2k.csv\"\n",
    "data_path = \"../data/airlines.csv\"\n",
    "airlines_df = h2o.import_file(data_path)"
   ]
  },
  {
   "cell_type": "code",
   "execution_count": 6,
   "metadata": {},
   "outputs": [
    {
     "name": "stdout",
     "output_type": "stream",
     "text": [
      "Rows:43978\n",
      "Cols:31\n",
      "\n",
      "\n"
     ]
    },
    {
     "data": {
      "text/html": [
       "<table>\n",
       "<thead>\n",
       "<tr><th>       </th><th>Year              </th><th>Month             </th><th>DayofMonth        </th><th>DayOfWeek        </th><th>DepTime           </th><th>CRSDepTime        </th><th>ArrTime           </th><th>CRSArrTime        </th><th>UniqueCarrier  </th><th>FlightNum        </th><th>TailNum  </th><th>ActualElapsedTime  </th><th>CRSElapsedTime    </th><th>AirTime          </th><th>ArrDelay          </th><th>DepDelay          </th><th>Origin  </th><th>Dest  </th><th>Distance         </th><th>TaxiIn           </th><th>TaxiOut          </th><th>Cancelled           </th><th>CancellationCode  </th><th>Diverted             </th><th>CarrierDelay      </th><th>WeatherDelay      </th><th>NASDelay          </th><th>SecurityDelay       </th><th>LateAircraftDelay  </th><th>IsArrDelayed  </th><th>IsDepDelayed  </th></tr>\n",
       "</thead>\n",
       "<tbody>\n",
       "<tr><td>type   </td><td>int               </td><td>int               </td><td>int               </td><td>int              </td><td>int               </td><td>int               </td><td>int               </td><td>int               </td><td>enum           </td><td>int              </td><td>enum     </td><td>int                </td><td>int               </td><td>int              </td><td>int               </td><td>int               </td><td>enum    </td><td>enum  </td><td>int              </td><td>int              </td><td>int              </td><td>int                 </td><td>enum              </td><td>int                  </td><td>int               </td><td>int               </td><td>int               </td><td>int                 </td><td>int                </td><td>enum          </td><td>enum          </td></tr>\n",
       "<tr><td>mins   </td><td>1987.0            </td><td>1.0               </td><td>1.0               </td><td>1.0              </td><td>1.0               </td><td>0.0               </td><td>1.0               </td><td>0.0               </td><td>               </td><td>1.0              </td><td>         </td><td>16.0               </td><td>17.0              </td><td>14.0             </td><td>-63.0             </td><td>-16.0             </td><td>        </td><td>      </td><td>11.0             </td><td>0.0              </td><td>0.0              </td><td>0.0                 </td><td>                  </td><td>0.0                  </td><td>0.0               </td><td>0.0               </td><td>0.0               </td><td>0.0                 </td><td>0.0                </td><td>              </td><td>              </td></tr>\n",
       "<tr><td>mean   </td><td>1997.5            </td><td>1.4090909090909094</td><td>14.601073263904684</td><td>3.820614852880986</td><td>1345.8466613820758</td><td>1313.2228614307157</td><td>1504.6341303788895</td><td>1485.2891673109277</td><td>               </td><td>818.8429896766567</td><td>         </td><td>124.81452913540424 </td><td>125.02156260661894</td><td>114.3161110907826</td><td>9.31711193698432  </td><td>10.007390655600114</td><td>        </td><td>      </td><td>730.1821905650504</td><td>5.381368059530624</td><td>14.16863418473206</td><td>0.024694165264450407</td><td>                  </td><td>0.0024785119832643593</td><td>4.047800291055633 </td><td>0.2893764692712415</td><td>4.855031904175528 </td><td>0.017015560282100085</td><td>7.620060450016787  </td><td>              </td><td>              </td></tr>\n",
       "<tr><td>maxs   </td><td>2008.0            </td><td>10.0              </td><td>31.0              </td><td>7.0              </td><td>2400.0            </td><td>2359.0            </td><td>2400.0            </td><td>2359.0            </td><td>               </td><td>3949.0           </td><td>         </td><td>475.0              </td><td>437.0             </td><td>402.0            </td><td>475.0             </td><td>473.0             </td><td>        </td><td>      </td><td>3365.0           </td><td>128.0            </td><td>254.0            </td><td>1.0                 </td><td>                  </td><td>1.0                  </td><td>369.0             </td><td>201.0             </td><td>323.0             </td><td>14.0                </td><td>373.0              </td><td>              </td><td>              </td></tr>\n",
       "<tr><td>sigma  </td><td>6.3443609017107025</td><td>1.8747113713439636</td><td>9.17579042586145  </td><td>1.905013119132896</td><td>465.3408991242338 </td><td>476.2511399925997 </td><td>484.347487903516  </td><td>492.7504341227009 </td><td>               </td><td>777.4043691636348</td><td>         </td><td>73.9744416605902   </td><td>73.4015946300093  </td><td>69.63632951506105</td><td>29.840221962414834</td><td>26.438809042916446</td><td>        </td><td>      </td><td>578.4380082304242</td><td>4.201979939864827</td><td>9.905085747204334</td><td>0.15519314135784237 </td><td>                  </td><td>0.049723487218862286 </td><td>16.205729904484194</td><td>4.4167798987341245</td><td>18.619776221475686</td><td>0.4039401821015118  </td><td>23.487565874106213 </td><td>              </td><td>              </td></tr>\n",
       "<tr><td>zeros  </td><td>0                 </td><td>0                 </td><td>0                 </td><td>0                </td><td>0                 </td><td>569               </td><td>0                 </td><td>569               </td><td>               </td><td>0                </td><td>         </td><td>0                  </td><td>0                 </td><td>0                </td><td>1514              </td><td>6393              </td><td>        </td><td>      </td><td>0                </td><td>623              </td><td>557              </td><td>42892               </td><td>                  </td><td>43869                </td><td>7344              </td><td>8840              </td><td>7388              </td><td>8914                </td><td>7140               </td><td>              </td><td>              </td></tr>\n",
       "<tr><td>missing</td><td>0                 </td><td>0                 </td><td>0                 </td><td>0                </td><td>1086              </td><td>0                 </td><td>1195              </td><td>0                 </td><td>0              </td><td>0                </td><td>32       </td><td>1195               </td><td>13                </td><td>16649            </td><td>1195              </td><td>1086              </td><td>0       </td><td>0     </td><td>35               </td><td>16026            </td><td>16024            </td><td>0                   </td><td>9774              </td><td>0                    </td><td>35045             </td><td>35045             </td><td>35045             </td><td>35045               </td><td>35045              </td><td>0             </td><td>0             </td></tr>\n",
       "<tr><td>0      </td><td>1987.0            </td><td>10.0              </td><td>14.0              </td><td>3.0              </td><td>741.0             </td><td>730.0             </td><td>912.0             </td><td>849.0             </td><td>PS             </td><td>1451.0           </td><td>NA       </td><td>91.0               </td><td>79.0              </td><td>nan              </td><td>23.0              </td><td>11.0              </td><td>SAN     </td><td>SFO   </td><td>447.0            </td><td>nan              </td><td>nan              </td><td>0.0                 </td><td>NA                </td><td>0.0                  </td><td>nan               </td><td>nan               </td><td>nan               </td><td>nan                 </td><td>nan                </td><td>YES           </td><td>YES           </td></tr>\n",
       "<tr><td>1      </td><td>1987.0            </td><td>10.0              </td><td>15.0              </td><td>4.0              </td><td>729.0             </td><td>730.0             </td><td>903.0             </td><td>849.0             </td><td>PS             </td><td>1451.0           </td><td>NA       </td><td>94.0               </td><td>79.0              </td><td>nan              </td><td>14.0              </td><td>-1.0              </td><td>SAN     </td><td>SFO   </td><td>447.0            </td><td>nan              </td><td>nan              </td><td>0.0                 </td><td>NA                </td><td>0.0                  </td><td>nan               </td><td>nan               </td><td>nan               </td><td>nan                 </td><td>nan                </td><td>YES           </td><td>NO            </td></tr>\n",
       "<tr><td>2      </td><td>1987.0            </td><td>10.0              </td><td>17.0              </td><td>6.0              </td><td>741.0             </td><td>730.0             </td><td>918.0             </td><td>849.0             </td><td>PS             </td><td>1451.0           </td><td>NA       </td><td>97.0               </td><td>79.0              </td><td>nan              </td><td>29.0              </td><td>11.0              </td><td>SAN     </td><td>SFO   </td><td>447.0            </td><td>nan              </td><td>nan              </td><td>0.0                 </td><td>NA                </td><td>0.0                  </td><td>nan               </td><td>nan               </td><td>nan               </td><td>nan                 </td><td>nan                </td><td>YES           </td><td>YES           </td></tr>\n",
       "<tr><td>3      </td><td>1987.0            </td><td>10.0              </td><td>18.0              </td><td>7.0              </td><td>729.0             </td><td>730.0             </td><td>847.0             </td><td>849.0             </td><td>PS             </td><td>1451.0           </td><td>NA       </td><td>78.0               </td><td>79.0              </td><td>nan              </td><td>-2.0              </td><td>-1.0              </td><td>SAN     </td><td>SFO   </td><td>447.0            </td><td>nan              </td><td>nan              </td><td>0.0                 </td><td>NA                </td><td>0.0                  </td><td>nan               </td><td>nan               </td><td>nan               </td><td>nan                 </td><td>nan                </td><td>NO            </td><td>NO            </td></tr>\n",
       "<tr><td>4      </td><td>1987.0            </td><td>10.0              </td><td>19.0              </td><td>1.0              </td><td>749.0             </td><td>730.0             </td><td>922.0             </td><td>849.0             </td><td>PS             </td><td>1451.0           </td><td>NA       </td><td>93.0               </td><td>79.0              </td><td>nan              </td><td>33.0              </td><td>19.0              </td><td>SAN     </td><td>SFO   </td><td>447.0            </td><td>nan              </td><td>nan              </td><td>0.0                 </td><td>NA                </td><td>0.0                  </td><td>nan               </td><td>nan               </td><td>nan               </td><td>nan                 </td><td>nan                </td><td>YES           </td><td>YES           </td></tr>\n",
       "<tr><td>5      </td><td>1987.0            </td><td>10.0              </td><td>21.0              </td><td>3.0              </td><td>728.0             </td><td>730.0             </td><td>848.0             </td><td>849.0             </td><td>PS             </td><td>1451.0           </td><td>NA       </td><td>80.0               </td><td>79.0              </td><td>nan              </td><td>-1.0              </td><td>-2.0              </td><td>SAN     </td><td>SFO   </td><td>447.0            </td><td>nan              </td><td>nan              </td><td>0.0                 </td><td>NA                </td><td>0.0                  </td><td>nan               </td><td>nan               </td><td>nan               </td><td>nan                 </td><td>nan                </td><td>NO            </td><td>NO            </td></tr>\n",
       "<tr><td>6      </td><td>1987.0            </td><td>10.0              </td><td>22.0              </td><td>4.0              </td><td>728.0             </td><td>730.0             </td><td>852.0             </td><td>849.0             </td><td>PS             </td><td>1451.0           </td><td>NA       </td><td>84.0               </td><td>79.0              </td><td>nan              </td><td>3.0               </td><td>-2.0              </td><td>SAN     </td><td>SFO   </td><td>447.0            </td><td>nan              </td><td>nan              </td><td>0.0                 </td><td>NA                </td><td>0.0                  </td><td>nan               </td><td>nan               </td><td>nan               </td><td>nan                 </td><td>nan                </td><td>YES           </td><td>NO            </td></tr>\n",
       "<tr><td>7      </td><td>1987.0            </td><td>10.0              </td><td>23.0              </td><td>5.0              </td><td>731.0             </td><td>730.0             </td><td>902.0             </td><td>849.0             </td><td>PS             </td><td>1451.0           </td><td>NA       </td><td>91.0               </td><td>79.0              </td><td>nan              </td><td>13.0              </td><td>1.0               </td><td>SAN     </td><td>SFO   </td><td>447.0            </td><td>nan              </td><td>nan              </td><td>0.0                 </td><td>NA                </td><td>0.0                  </td><td>nan               </td><td>nan               </td><td>nan               </td><td>nan                 </td><td>nan                </td><td>YES           </td><td>YES           </td></tr>\n",
       "<tr><td>8      </td><td>1987.0            </td><td>10.0              </td><td>24.0              </td><td>6.0              </td><td>744.0             </td><td>730.0             </td><td>908.0             </td><td>849.0             </td><td>PS             </td><td>1451.0           </td><td>NA       </td><td>84.0               </td><td>79.0              </td><td>nan              </td><td>19.0              </td><td>14.0              </td><td>SAN     </td><td>SFO   </td><td>447.0            </td><td>nan              </td><td>nan              </td><td>0.0                 </td><td>NA                </td><td>0.0                  </td><td>nan               </td><td>nan               </td><td>nan               </td><td>nan                 </td><td>nan                </td><td>YES           </td><td>YES           </td></tr>\n",
       "<tr><td>9      </td><td>1987.0            </td><td>10.0              </td><td>25.0              </td><td>7.0              </td><td>729.0             </td><td>730.0             </td><td>851.0             </td><td>849.0             </td><td>PS             </td><td>1451.0           </td><td>NA       </td><td>82.0               </td><td>79.0              </td><td>nan              </td><td>2.0               </td><td>-1.0              </td><td>SAN     </td><td>SFO   </td><td>447.0            </td><td>nan              </td><td>nan              </td><td>0.0                 </td><td>NA                </td><td>0.0                  </td><td>nan               </td><td>nan               </td><td>nan               </td><td>nan                 </td><td>nan                </td><td>YES           </td><td>NO            </td></tr>\n",
       "</tbody>\n",
       "</table>"
      ]
     },
     "metadata": {},
     "output_type": "display_data"
    }
   ],
   "source": [
    "airlines_df.describe()"
   ]
  },
  {
   "cell_type": "code",
   "execution_count": 7,
   "metadata": {},
   "outputs": [
    {
     "name": "stdout",
     "output_type": "stream",
     "text": [
      "Rows:1461\n",
      "Cols:12\n",
      "\n",
      "\n"
     ]
    },
    {
     "data": {
      "text/html": [
       "<table>\n",
       "<thead>\n",
       "<tr><th>       </th><th>Date               </th><th>TmaxF             </th><th>TminF             </th><th>TmeanF           </th><th>PrcpIn            </th><th>SnowIn             </th><th>CDD               </th><th>HDD               </th><th>GDD               </th><th>Year              </th><th>Month             </th><th>DayofMonth        </th></tr>\n",
       "</thead>\n",
       "<tbody>\n",
       "<tr><td>type   </td><td>time               </td><td>int               </td><td>int               </td><td>real             </td><td>real              </td><td>real               </td><td>real              </td><td>real              </td><td>real              </td><td>int               </td><td>int               </td><td>int               </td></tr>\n",
       "<tr><td>mins   </td><td>1104537600000.0    </td><td>2.0               </td><td>-10.0             </td><td>-2.5             </td><td>0.0               </td><td>0.0                </td><td>0.0               </td><td>0.0               </td><td>0.0               </td><td>2005.0            </td><td>1.0               </td><td>1.0               </td></tr>\n",
       "<tr><td>mean   </td><td>1167609600000.0    </td><td>59.731006160164306</td><td>41.930869267624864</td><td>50.83093771389467</td><td>0.1258862324814508</td><td>0.13482210446631324</td><td>2.6830937713894594</td><td>16.85215605749488 </td><td>9.037987679671465 </td><td>2006.5010266940421</td><td>6.5229295003422445</td><td>15.729637234770715</td></tr>\n",
       "<tr><td>maxs   </td><td>1230681600000.0    </td><td>102.0             </td><td>80.0              </td><td>90.0             </td><td>6.64              </td><td>8.8                </td><td>25.0              </td><td>67.5              </td><td>40.0              </td><td>2008.0            </td><td>12.0              </td><td>31.0              </td></tr>\n",
       "<tr><td>sigma  </td><td>36452046342.55805  </td><td>21.570103698776933</td><td>19.021473406264455</td><td>20.00830720652739</td><td>0.346369873627173 </td><td>0.647605252469569  </td><td>4.817865753839847 </td><td>16.930054853264178</td><td>10.819760641130426</td><td>1.1187225040519035</td><td>3.449884042297707 </td><td>8.803105254885079 </td></tr>\n",
       "<tr><td>zeros  </td><td>0                  </td><td>0                 </td><td>4                 </td><td>0                </td><td>695               </td><td>1187               </td><td>1001              </td><td>471               </td><td>704               </td><td>0                 </td><td>0                 </td><td>0                 </td></tr>\n",
       "<tr><td>missing</td><td>0                  </td><td>0                 </td><td>0                 </td><td>0                </td><td>248               </td><td>140                </td><td>0                 </td><td>0                 </td><td>0                 </td><td>0                 </td><td>0                 </td><td>0                 </td></tr>\n",
       "<tr><td>0      </td><td>2005-01-01 00:00:00</td><td>41.0              </td><td>25.0              </td><td>33.0             </td><td>0.31              </td><td>0.0                </td><td>0.0               </td><td>32.0              </td><td>0.0               </td><td>2005.0            </td><td>1.0               </td><td>1.0               </td></tr>\n",
       "<tr><td>1      </td><td>2005-01-02 00:00:00</td><td>54.0              </td><td>33.0              </td><td>43.5             </td><td>0.08              </td><td>0.0                </td><td>0.0               </td><td>21.5              </td><td>0.0               </td><td>2005.0            </td><td>1.0               </td><td>2.0               </td></tr>\n",
       "<tr><td>2      </td><td>2005-01-03 00:00:00</td><td>36.0              </td><td>32.0              </td><td>34.0             </td><td>0.36              </td><td>0.0                </td><td>0.0               </td><td>31.0              </td><td>0.0               </td><td>2005.0            </td><td>1.0               </td><td>3.0               </td></tr>\n",
       "<tr><td>3      </td><td>2005-01-04 00:00:00</td><td>35.0              </td><td>30.0              </td><td>32.5             </td><td>0.05              </td><td>1.2                </td><td>0.0               </td><td>32.5              </td><td>0.0               </td><td>2005.0            </td><td>1.0               </td><td>4.0               </td></tr>\n",
       "<tr><td>4      </td><td>2005-01-05 00:00:00</td><td>31.0              </td><td>26.0              </td><td>28.5             </td><td>0.38              </td><td>6.2                </td><td>0.0               </td><td>36.5              </td><td>0.0               </td><td>2005.0            </td><td>1.0               </td><td>5.0               </td></tr>\n",
       "<tr><td>5      </td><td>2005-01-06 00:00:00</td><td>27.0              </td><td>12.0              </td><td>19.5             </td><td>0.19              </td><td>2.4                </td><td>0.0               </td><td>45.5              </td><td>0.0               </td><td>2005.0            </td><td>1.0               </td><td>6.0               </td></tr>\n",
       "<tr><td>6      </td><td>2005-01-07 00:00:00</td><td>28.0              </td><td>7.0               </td><td>17.5             </td><td>nan               </td><td>nan                </td><td>0.0               </td><td>47.5              </td><td>0.0               </td><td>2005.0            </td><td>1.0               </td><td>7.0               </td></tr>\n",
       "<tr><td>7      </td><td>2005-01-08 00:00:00</td><td>27.0              </td><td>24.0              </td><td>25.5             </td><td>nan               </td><td>nan                </td><td>0.0               </td><td>39.5              </td><td>0.0               </td><td>2005.0            </td><td>1.0               </td><td>8.0               </td></tr>\n",
       "<tr><td>8      </td><td>2005-01-09 00:00:00</td><td>34.0              </td><td>26.0              </td><td>30.0             </td><td>nan               </td><td>0.0                </td><td>0.0               </td><td>35.0              </td><td>0.0               </td><td>2005.0            </td><td>1.0               </td><td>9.0               </td></tr>\n",
       "<tr><td>9      </td><td>2005-01-10 00:00:00</td><td>35.0              </td><td>29.0              </td><td>32.0             </td><td>nan               </td><td>nan                </td><td>0.0               </td><td>33.0              </td><td>0.0               </td><td>2005.0            </td><td>1.0               </td><td>10.0              </td></tr>\n",
       "</tbody>\n",
       "</table>"
      ]
     },
     "metadata": {},
     "output_type": "display_data"
    }
   ],
   "source": [
    "weather_df.describe()"
   ]
  },
  {
   "cell_type": "code",
   "execution_count": 8,
   "metadata": {},
   "outputs": [
    {
     "name": "stdout",
     "output_type": "stream",
     "text": [
      "Min: 2005.0; Max: 2008.0\n"
     ]
    }
   ],
   "source": [
    "# Getting date range for Weather data\n",
    "print('Min: ' + str(weather_df['Year'].min()) + '; Max: ' + str(weather_df['Year'].max()))"
   ]
  },
  {
   "cell_type": "code",
   "execution_count": 9,
   "metadata": {},
   "outputs": [
    {
     "name": "stdout",
     "output_type": "stream",
     "text": [
      "Min: 1987.0; Max: 2008.0\n"
     ]
    }
   ],
   "source": [
    "# Getting date range for Airlines data\n",
    "print('Min: ' + str(airlines_df['Year'].min()) + '; Max: ' + str(airlines_df['Year'].max()))"
   ]
  },
  {
   "cell_type": "markdown",
   "metadata": {},
   "source": [
    "<br/>\n",
    "<div align='center'><b>Feature Engineering</b></div>\n",
    "<br/>"
   ]
  },
  {
   "cell_type": "code",
   "execution_count": 10,
   "metadata": {},
   "outputs": [],
   "source": [
    "## New time parameters - to convert non-continuous clock-time to elapsed minutes since midnight\n",
    "\n",
    "#CRS times\n",
    "hours = airlines_df[\"CRSArrTime\"] // 100\n",
    "mins = airlines_df[\"CRSArrTime\"] % 100\n",
    "CRSarrTimeMins = hours*60+mins\n",
    "hours = airlines_df[\"CRSDepTime\"] // 100\n",
    "mins = airlines_df[\"CRSDepTime\"] % 100\n",
    "CRSdepTimeMins = hours*60+mins\n",
    "airlines_df[\"CRSarrTimeMins\"]  = CRSarrTimeMins\n",
    "airlines_df[\"CRSdepTimeMins\"]  = CRSdepTimeMins\n",
    "\n",
    "#Actual times\n",
    "hours = airlines_df[\"ArrTime\"] // 100\n",
    "mins = airlines_df[\"ArrTime\"] % 100\n",
    "arrTimeMins = hours*60+mins\n",
    "hours = airlines_df[\"DepTime\"] // 100\n",
    "mins = airlines_df[\"DepTime\"] % 100\n",
    "depTimeMins = hours*60+mins\n",
    "airlines_df[\"ArrTimeMins\"]  = arrTimeMins\n",
    "airlines_df[\"DepTimeMins\"]  = depTimeMins\n",
    "\n",
    "travelTime = (airlines_df[\"DepTimeMins\"] - airlines_df[\"ArrTimeMins\"] > 0).ifelse(airlines_df[\"DepTimeMins\"] - airlines_df[\"ArrTimeMins\"], airlines_df[\"ArrTimeMins\"] - airlines_df[\"DepTimeMins\"])\n",
    "airlines_df[\"TravelTime\"]  = travelTime"
   ]
  },
  {
   "cell_type": "markdown",
   "metadata": {},
   "source": [
    "<br/>\n",
    "<div align='left'><b>Filtering: If we want to model whether departure is delayed, it may make sense to include only flights originaying from ORD</b></div>\n",
    "<br/>"
   ]
  },
  {
   "cell_type": "code",
   "execution_count": 11,
   "metadata": {},
   "outputs": [],
   "source": [
    "#Filter to only flights into/out of ORD\n",
    "#filter_ORD = (((airlines_df['Origin'] == 'ORD') | (airlines_df['Dest'] == 'ORD')))\n",
    "filter_ORD = (((airlines_df['Origin'] == 'ORD') ))\n",
    "airlines_ORD = airlines_df[filter_ORD == 1]\n",
    "#data_ORD[['Origin','Dest']]\n",
    "#airlines_ORD.describe()\n",
    "\n",
    "#Filter to only from 2005, to align with weather data\n",
    "filter_ORD_2k5 = (airlines_ORD['Year'] >= 2005)\n",
    "airlines_ORD_2k5 = airlines_ORD[filter_ORD_2k5 == 1]"
   ]
  },
  {
   "cell_type": "code",
   "execution_count": 12,
   "metadata": {},
   "outputs": [
    {
     "name": "stdout",
     "output_type": "stream",
     "text": [
      "Min: 1989.0; Max: 2006.0\n"
     ]
    }
   ],
   "source": [
    "print('Min: ' + str(airlines_ORD['Year'].min()) + '; Max: ' + str(airlines_ORD['Year'].max()))"
   ]
  },
  {
   "cell_type": "code",
   "execution_count": 13,
   "metadata": {},
   "outputs": [
    {
     "name": "stdout",
     "output_type": "stream",
     "text": [
      "Min: 2005.0; Max: 2006.0\n"
     ]
    }
   ],
   "source": [
    "print('Min: ' + str(airlines_ORD_2k5['Year'].min()) + '; Max: ' + str(airlines_ORD_2k5['Year'].max()))"
   ]
  },
  {
   "cell_type": "code",
   "execution_count": 14,
   "metadata": {},
   "outputs": [
    {
     "name": "stdout",
     "output_type": "stream",
     "text": [
      "Rows:526\n",
      "Cols:36\n",
      "\n",
      "\n"
     ]
    },
    {
     "data": {
      "text/html": [
       "<table>\n",
       "<thead>\n",
       "<tr><th>       </th><th>Year              </th><th>Month  </th><th>DayofMonth        </th><th>DayOfWeek         </th><th>DepTime           </th><th>CRSDepTime        </th><th>ArrTime          </th><th>CRSArrTime       </th><th>UniqueCarrier  </th><th>FlightNum         </th><th>TailNum  </th><th>ActualElapsedTime  </th><th>CRSElapsedTime    </th><th>AirTime           </th><th>ArrDelay         </th><th>DepDelay          </th><th>Origin  </th><th>Dest  </th><th>Distance         </th><th>TaxiIn            </th><th>TaxiOut           </th><th>Cancelled          </th><th>CancellationCode  </th><th>Diverted             </th><th>CarrierDelay      </th><th>WeatherDelay      </th><th>NASDelay          </th><th>SecurityDelay  </th><th>LateAircraftDelay  </th><th>IsArrDelayed  </th><th>IsDepDelayed  </th><th>CRSarrTimeMins   </th><th>CRSdepTimeMins   </th><th>ArrTimeMins       </th><th>DepTimeMins      </th><th>TravelTime        </th></tr>\n",
       "</thead>\n",
       "<tbody>\n",
       "<tr><td>type   </td><td>int               </td><td>int    </td><td>int               </td><td>int               </td><td>int               </td><td>int               </td><td>int              </td><td>int              </td><td>enum           </td><td>int               </td><td>enum     </td><td>int                </td><td>int               </td><td>int               </td><td>int              </td><td>int               </td><td>enum    </td><td>enum  </td><td>int              </td><td>int               </td><td>int               </td><td>int                </td><td>enum              </td><td>int                  </td><td>int               </td><td>int               </td><td>int               </td><td>int            </td><td>int                </td><td>enum          </td><td>enum          </td><td>int              </td><td>int              </td><td>int               </td><td>int              </td><td>int               </td></tr>\n",
       "<tr><td>mins   </td><td>2005.0            </td><td>1.0    </td><td>1.0               </td><td>1.0               </td><td>10.0              </td><td>600.0             </td><td>1.0              </td><td>831.0            </td><td>               </td><td>8.0               </td><td>         </td><td>51.0               </td><td>64.0              </td><td>37.0              </td><td>-36.0            </td><td>-12.0             </td><td>        </td><td>      </td><td>240.0            </td><td>0.0               </td><td>0.0               </td><td>0.0                </td><td>                  </td><td>0.0                  </td><td>0.0               </td><td>0.0               </td><td>0.0               </td><td>0.0            </td><td>0.0                </td><td>              </td><td>              </td><td>511.0            </td><td>360.0            </td><td>1.0               </td><td>10.0             </td><td>69.0              </td></tr>\n",
       "<tr><td>mean   </td><td>2005.0475285171103</td><td>1.0    </td><td>14.929657794676809</td><td>3.8745247148288953</td><td>1381.8663967611335</td><td>1363.5703422053227</td><td>1350.306288032454</td><td>1614.539923954373</td><td>               </td><td>579.346007604562  </td><td>         </td><td>140.5882352941177  </td><td>141.15969581749042</td><td>116.25963488843807</td><td>22.9655172413793 </td><td>24.96761133603237 </td><td>        </td><td>      </td><td>800.1977186311785</td><td>4.72813688212928  </td><td>18.09885931558936 </td><td>0.06083650190114068</td><td>                  </td><td>0.0019011406844106462</td><td>6.344106463878327 </td><td>0.3517110266159696</td><td>4.171102661596956 </td><td>0.0            </td><td>13.598859315589369 </td><td>              </td><td>              </td><td>982.6007604562725</td><td>829.8060836501908</td><td>821.7870182555781 </td><td>841.1376518218627</td><td>280.62068965517227</td></tr>\n",
       "<tr><td>maxs   </td><td>2006.0            </td><td>1.0    </td><td>31.0              </td><td>7.0               </td><td>2354.0            </td><td>2135.0            </td><td>2400.0           </td><td>2359.0           </td><td>               </td><td>1698.0            </td><td>         </td><td>306.0              </td><td>282.0             </td><td>277.0             </td><td>299.0            </td><td>319.0             </td><td>        </td><td>      </td><td>1829.0           </td><td>41.0              </td><td>73.0              </td><td>1.0                </td><td>                  </td><td>1.0                  </td><td>130.0             </td><td>59.0              </td><td>141.0             </td><td>0.0            </td><td>253.0              </td><td>              </td><td>              </td><td>1439.0           </td><td>1295.0           </td><td>1440.0            </td><td>1434.0           </td><td>1324.0            </td></tr>\n",
       "<tr><td>sigma  </td><td>0.2129689763780423</td><td>0.0    </td><td>9.029306500649566 </td><td>2.041343456404889 </td><td>550.19972250944   </td><td>504.3882421826196 </td><td>667.0709039947067</td><td>523.5568257902991</td><td>               </td><td>118.71585144381703</td><td>         </td><td>66.79159146613193  </td><td>64.35391112621386 </td><td>65.53706775146351 </td><td>47.92788480473452</td><td>46.387587558261814</td><td>        </td><td>      </td><td>471.4948657747273</td><td>3.6116540397901287</td><td>10.509937185765747</td><td>0.23925770899323678</td><td>                  </td><td>0.04360207201969473  </td><td>16.080198810073863</td><td>3.576093495122734 </td><td>12.110334096327763</td><td>0.0            </td><td>34.92523604762142  </td><td>              </td><td>              </td><td>316.0011819136899</td><td>305.4855377156096</td><td>401.46459167368306</td><td>330.5938802681361</td><td>363.6475390546444 </td></tr>\n",
       "<tr><td>zeros  </td><td>0                 </td><td>0      </td><td>0                 </td><td>0                 </td><td>0                 </td><td>0                 </td><td>0                </td><td>0                </td><td>               </td><td>0                 </td><td>         </td><td>0                  </td><td>0                 </td><td>0                 </td><td>12               </td><td>36                </td><td>        </td><td>      </td><td>0                </td><td>33                </td><td>32                </td><td>494                </td><td>                  </td><td>525                  </td><td>405               </td><td>518               </td><td>422               </td><td>526            </td><td>404                </td><td>              </td><td>              </td><td>0                </td><td>0                </td><td>0                 </td><td>0                </td><td>0                 </td></tr>\n",
       "<tr><td>missing</td><td>0                 </td><td>0      </td><td>0                 </td><td>0                 </td><td>32                </td><td>0                 </td><td>33               </td><td>0                </td><td>0              </td><td>0                 </td><td>0        </td><td>33                 </td><td>0                 </td><td>33                </td><td>33               </td><td>32                </td><td>0       </td><td>0     </td><td>0                </td><td>0                 </td><td>0                 </td><td>0                  </td><td>494               </td><td>0                    </td><td>0                 </td><td>0                 </td><td>0                 </td><td>0              </td><td>0                  </td><td>0             </td><td>0             </td><td>0                </td><td>0                </td><td>33                </td><td>32               </td><td>33                </td></tr>\n",
       "<tr><td>0      </td><td>2005.0            </td><td>1.0    </td><td>2.0               </td><td>7.0               </td><td>1934.0            </td><td>1900.0            </td><td>2235.0           </td><td>2232.0           </td><td>UA             </td><td>542.0             </td><td>N902UA   </td><td>121.0              </td><td>152.0             </td><td>106.0             </td><td>3.0              </td><td>34.0              </td><td>ORD     </td><td>BOS   </td><td>867.0            </td><td>5.0               </td><td>10.0              </td><td>0.0                </td><td>                  </td><td>0.0                  </td><td>0.0               </td><td>0.0               </td><td>0.0               </td><td>0.0            </td><td>0.0                </td><td>YES           </td><td>YES           </td><td>1352.0           </td><td>1140.0           </td><td>1355.0            </td><td>1174.0           </td><td>181.0             </td></tr>\n",
       "<tr><td>1      </td><td>2005.0            </td><td>1.0    </td><td>3.0               </td><td>1.0               </td><td>2042.0            </td><td>1900.0            </td><td>9.0              </td><td>2232.0           </td><td>UA             </td><td>542.0             </td><td>N904UA   </td><td>147.0              </td><td>152.0             </td><td>97.0              </td><td>97.0             </td><td>102.0             </td><td>ORD     </td><td>BOS   </td><td>867.0            </td><td>3.0               </td><td>47.0              </td><td>0.0                </td><td>                  </td><td>0.0                  </td><td>23.0              </td><td>0.0               </td><td>0.0               </td><td>0.0            </td><td>74.0               </td><td>YES           </td><td>YES           </td><td>1352.0           </td><td>1140.0           </td><td>9.0               </td><td>1242.0           </td><td>1233.0            </td></tr>\n",
       "<tr><td>2      </td><td>2005.0            </td><td>1.0    </td><td>4.0               </td><td>2.0               </td><td>2046.0            </td><td>1900.0            </td><td>2357.0           </td><td>2232.0           </td><td>UA             </td><td>542.0             </td><td>N942UA   </td><td>131.0              </td><td>152.0             </td><td>100.0             </td><td>85.0             </td><td>106.0             </td><td>ORD     </td><td>BOS   </td><td>867.0            </td><td>5.0               </td><td>26.0              </td><td>0.0                </td><td>                  </td><td>0.0                  </td><td>46.0              </td><td>0.0               </td><td>0.0               </td><td>0.0            </td><td>39.0               </td><td>YES           </td><td>YES           </td><td>1352.0           </td><td>1140.0           </td><td>1437.0            </td><td>1246.0           </td><td>191.0             </td></tr>\n",
       "<tr><td>3      </td><td>2005.0            </td><td>1.0    </td><td>5.0               </td><td>3.0               </td><td>nan               </td><td>1900.0            </td><td>nan              </td><td>2232.0           </td><td>UA             </td><td>542.0             </td><td>000000   </td><td>nan                </td><td>152.0             </td><td>nan               </td><td>nan              </td><td>nan               </td><td>ORD     </td><td>BOS   </td><td>867.0            </td><td>0.0               </td><td>0.0               </td><td>1.0                </td><td>B                 </td><td>0.0                  </td><td>0.0               </td><td>0.0               </td><td>0.0               </td><td>0.0            </td><td>0.0                </td><td>YES           </td><td>YES           </td><td>1352.0           </td><td>1140.0           </td><td>nan               </td><td>nan              </td><td>nan               </td></tr>\n",
       "<tr><td>4      </td><td>2005.0            </td><td>1.0    </td><td>6.0               </td><td>4.0               </td><td>2110.0            </td><td>1900.0            </td><td>8.0              </td><td>2223.0           </td><td>UA             </td><td>542.0             </td><td>N920UA   </td><td>118.0              </td><td>143.0             </td><td>101.0             </td><td>105.0            </td><td>130.0             </td><td>ORD     </td><td>BOS   </td><td>867.0            </td><td>2.0               </td><td>15.0              </td><td>0.0                </td><td>                  </td><td>0.0                  </td><td>16.0              </td><td>0.0               </td><td>0.0               </td><td>0.0            </td><td>89.0               </td><td>YES           </td><td>YES           </td><td>1343.0           </td><td>1140.0           </td><td>8.0               </td><td>1270.0           </td><td>1262.0            </td></tr>\n",
       "<tr><td>5      </td><td>2005.0            </td><td>1.0    </td><td>7.0               </td><td>5.0               </td><td>1859.0            </td><td>1900.0            </td><td>2235.0           </td><td>2223.0           </td><td>UA             </td><td>542.0             </td><td>N340UA   </td><td>156.0              </td><td>143.0             </td><td>96.0              </td><td>12.0             </td><td>-1.0              </td><td>ORD     </td><td>BOS   </td><td>867.0            </td><td>4.0               </td><td>56.0              </td><td>0.0                </td><td>                  </td><td>0.0                  </td><td>0.0               </td><td>0.0               </td><td>0.0               </td><td>0.0            </td><td>0.0                </td><td>YES           </td><td>NO            </td><td>1343.0           </td><td>1140.0           </td><td>1355.0            </td><td>1139.0           </td><td>216.0             </td></tr>\n",
       "<tr><td>6      </td><td>2005.0            </td><td>1.0    </td><td>9.0               </td><td>7.0               </td><td>1859.0            </td><td>1900.0            </td><td>2205.0           </td><td>2223.0           </td><td>UA             </td><td>542.0             </td><td>N929UA   </td><td>126.0              </td><td>143.0             </td><td>106.0             </td><td>-18.0            </td><td>-1.0              </td><td>ORD     </td><td>BOS   </td><td>867.0            </td><td>5.0               </td><td>15.0              </td><td>0.0                </td><td>                  </td><td>0.0                  </td><td>0.0               </td><td>0.0               </td><td>0.0               </td><td>0.0            </td><td>0.0                </td><td>NO            </td><td>NO            </td><td>1343.0           </td><td>1140.0           </td><td>1325.0            </td><td>1139.0           </td><td>186.0             </td></tr>\n",
       "<tr><td>7      </td><td>2005.0            </td><td>1.0    </td><td>10.0              </td><td>1.0               </td><td>1917.0            </td><td>1900.0            </td><td>2240.0           </td><td>2223.0           </td><td>UA             </td><td>542.0             </td><td>N934UA   </td><td>143.0              </td><td>143.0             </td><td>116.0             </td><td>17.0             </td><td>17.0              </td><td>ORD     </td><td>BOS   </td><td>867.0            </td><td>3.0               </td><td>24.0              </td><td>0.0                </td><td>                  </td><td>0.0                  </td><td>17.0              </td><td>0.0               </td><td>0.0               </td><td>0.0            </td><td>0.0                </td><td>YES           </td><td>YES           </td><td>1343.0           </td><td>1140.0           </td><td>1360.0            </td><td>1157.0           </td><td>203.0             </td></tr>\n",
       "<tr><td>8      </td><td>2005.0            </td><td>1.0    </td><td>11.0              </td><td>2.0               </td><td>1935.0            </td><td>1900.0            </td><td>2259.0           </td><td>2223.0           </td><td>UA             </td><td>542.0             </td><td>N336UA   </td><td>144.0              </td><td>143.0             </td><td>106.0             </td><td>36.0             </td><td>35.0              </td><td>ORD     </td><td>BOS   </td><td>867.0            </td><td>6.0               </td><td>32.0              </td><td>0.0                </td><td>                  </td><td>0.0                  </td><td>0.0               </td><td>0.0               </td><td>1.0               </td><td>0.0            </td><td>35.0               </td><td>YES           </td><td>YES           </td><td>1343.0           </td><td>1140.0           </td><td>1379.0            </td><td>1175.0           </td><td>204.0             </td></tr>\n",
       "<tr><td>9      </td><td>2005.0            </td><td>1.0    </td><td>12.0              </td><td>3.0               </td><td>2038.0            </td><td>1900.0            </td><td>18.0             </td><td>2223.0           </td><td>UA             </td><td>542.0             </td><td>N920UA   </td><td>160.0              </td><td>143.0             </td><td>111.0             </td><td>115.0            </td><td>98.0              </td><td>ORD     </td><td>BOS   </td><td>867.0            </td><td>6.0               </td><td>43.0              </td><td>0.0                </td><td>                  </td><td>0.0                  </td><td>18.0              </td><td>0.0               </td><td>17.0              </td><td>0.0            </td><td>80.0               </td><td>YES           </td><td>YES           </td><td>1343.0           </td><td>1140.0           </td><td>18.0              </td><td>1238.0           </td><td>1220.0            </td></tr>\n",
       "</tbody>\n",
       "</table>"
      ]
     },
     "metadata": {},
     "output_type": "display_data"
    }
   ],
   "source": [
    "airlines_ORD_2k5.describe()"
   ]
  },
  {
   "cell_type": "markdown",
   "metadata": {},
   "source": [
    "<br/>\n",
    "<div align='center'><b>Merging/Joining</b></div>\n",
    "<div align='center'>Airlines - left join - weather</div>\n",
    "<br/>"
   ]
  },
  {
   "cell_type": "code",
   "execution_count": 15,
   "metadata": {},
   "outputs": [],
   "source": [
    "#Converting date parts to character\n",
    "features = ['Year', 'Month', 'DayofMonth']\n",
    "\n",
    "for x in features:\n",
    "    airlines_ORD_2k5[x] = airlines_ORD_2k5[x].asfactor()\n",
    "    weather_df[x] = weather_df[x].asfactor()\n",
    "    \n",
    "airlines_ORD_2k5['DayOfWeek'] = airlines_ORD_2k5['DayOfWeek'].asfactor()    \n",
    "\n",
    "Merged_df = airlines_ORD_2k5.merge(weather_df, all_x=True)"
   ]
  },
  {
   "cell_type": "code",
   "execution_count": 16,
   "metadata": {},
   "outputs": [
    {
     "name": "stdout",
     "output_type": "stream",
     "text": [
      "Rows:526\n",
      "Cols:45\n",
      "\n",
      "\n"
     ]
    },
    {
     "data": {
      "text/html": [
       "<table>\n",
       "<thead>\n",
       "<tr><th>       </th><th>DayofMonth  </th><th>Year  </th><th>Month  </th><th>DayOfWeek  </th><th>DepTime           </th><th>CRSDepTime        </th><th>ArrTime           </th><th>CRSArrTime        </th><th>UniqueCarrier  </th><th>FlightNum         </th><th>TailNum  </th><th>ActualElapsedTime  </th><th>CRSElapsedTime   </th><th>AirTime           </th><th>ArrDelay         </th><th>DepDelay          </th><th>Origin  </th><th>Dest  </th><th>Distance         </th><th>TaxiIn            </th><th>TaxiOut           </th><th>Cancelled           </th><th>CancellationCode  </th><th>Diverted             </th><th>CarrierDelay      </th><th>WeatherDelay      </th><th>NASDelay          </th><th>SecurityDelay  </th><th>LateAircraftDelay  </th><th>IsArrDelayed  </th><th>IsDepDelayed  </th><th>CRSarrTimeMins    </th><th>CRSdepTimeMins   </th><th>ArrTimeMins      </th><th>DepTimeMins      </th><th>TravelTime        </th><th>Date               </th><th>TmaxF             </th><th>TminF             </th><th>TmeanF            </th><th>PrcpIn             </th><th>SnowIn            </th><th>CDD  </th><th>HDD               </th><th>GDD  </th></tr>\n",
       "</thead>\n",
       "<tbody>\n",
       "<tr><td>type   </td><td>enum        </td><td>enum  </td><td>enum   </td><td>enum       </td><td>int               </td><td>int               </td><td>int               </td><td>int               </td><td>enum           </td><td>int               </td><td>enum     </td><td>int                </td><td>int              </td><td>int               </td><td>int              </td><td>int               </td><td>enum    </td><td>enum  </td><td>int              </td><td>int               </td><td>int               </td><td>int                 </td><td>enum              </td><td>int                  </td><td>int               </td><td>int               </td><td>int               </td><td>int            </td><td>int                </td><td>enum          </td><td>enum          </td><td>int               </td><td>int              </td><td>int              </td><td>int              </td><td>int               </td><td>time               </td><td>int               </td><td>int               </td><td>real              </td><td>real               </td><td>real              </td><td>int  </td><td>real              </td><td>int  </td></tr>\n",
       "<tr><td>mins   </td><td>            </td><td>      </td><td>       </td><td>           </td><td>10.0              </td><td>600.0             </td><td>1.0               </td><td>831.0             </td><td>               </td><td>8.0               </td><td>         </td><td>51.0               </td><td>64.0             </td><td>37.0              </td><td>-36.0            </td><td>-12.0             </td><td>        </td><td>      </td><td>240.0            </td><td>0.0               </td><td>0.0               </td><td>0.0                 </td><td>                  </td><td>0.0                  </td><td>0.0               </td><td>0.0               </td><td>0.0               </td><td>0.0            </td><td>0.0                </td><td>              </td><td>              </td><td>511.0             </td><td>360.0            </td><td>1.0              </td><td>10.0             </td><td>69.0              </td><td>1104537600000.0    </td><td>11.0              </td><td>1.0               </td><td>6.5               </td><td>0.0                </td><td>0.0               </td><td>0.0  </td><td>17.0              </td><td>0.0  </td></tr>\n",
       "<tr><td>mean   </td><td>            </td><td>      </td><td>       </td><td>           </td><td>1381.8663967611335</td><td>1363.5703422053232</td><td>1350.3062880324544</td><td>1614.5399239543726</td><td>               </td><td>579.3460076045627 </td><td>         </td><td>140.58823529411765 </td><td>141.1596958174905</td><td>116.25963488843813</td><td>22.96551724137931</td><td>24.967611336032387</td><td>        </td><td>      </td><td>800.1977186311788</td><td>4.728136882129277 </td><td>18.098859315589355</td><td>0.060836501901140684</td><td>                  </td><td>0.0019011406844106464</td><td>6.344106463878327 </td><td>0.3517110266159696</td><td>4.171102661596958 </td><td>0.0            </td><td>13.598859315589353 </td><td>              </td><td>              </td><td>982.6007604562736 </td><td>829.8060836501901</td><td>821.7870182555781</td><td>841.1376518218624</td><td>280.62068965517244</td><td>1107239981749.0493 </td><td>32.39543726235741 </td><td>19.475285171102662</td><td>25.935361216730037</td><td>0.1597488584474886 </td><td>1.0337777777777777</td><td>0.0  </td><td>39.06463878326996 </td><td>0.0  </td></tr>\n",
       "<tr><td>maxs   </td><td>            </td><td>      </td><td>       </td><td>           </td><td>2354.0            </td><td>2135.0            </td><td>2400.0            </td><td>2359.0            </td><td>               </td><td>1698.0            </td><td>         </td><td>306.0              </td><td>282.0            </td><td>277.0             </td><td>299.0            </td><td>319.0             </td><td>        </td><td>      </td><td>1829.0           </td><td>41.0              </td><td>73.0              </td><td>1.0                 </td><td>                  </td><td>1.0                  </td><td>130.0             </td><td>59.0              </td><td>141.0             </td><td>0.0            </td><td>253.0              </td><td>              </td><td>              </td><td>1439.0            </td><td>1295.0           </td><td>1440.0           </td><td>1434.0           </td><td>1324.0            </td><td>1136937600000.0    </td><td>62.0              </td><td>37.0              </td><td>48.0              </td><td>0.89               </td><td>6.2               </td><td>0.0  </td><td>58.5              </td><td>0.0  </td></tr>\n",
       "<tr><td>sigma  </td><td>            </td><td>      </td><td>       </td><td>           </td><td>550.1997225094402 </td><td>504.3882421826198 </td><td>667.0709039947068 </td><td>523.5568257902987 </td><td>               </td><td>118.71585144381696</td><td>         </td><td>66.79159146613195  </td><td>64.35391112621384</td><td>65.53706775146351 </td><td>47.92788480473451</td><td>46.38758755826184 </td><td>        </td><td>      </td><td>471.4948657747275</td><td>3.6116540397901282</td><td>10.509937185765747</td><td>0.23925770899323678 </td><td>                  </td><td>0.04360207201969473  </td><td>16.080198810073863</td><td>3.576093495122734 </td><td>12.110334096327758</td><td>0.0            </td><td>34.925236047621425 </td><td>              </td><td>              </td><td>316.00118191369023</td><td>305.4855377156092</td><td>401.4645916736832</td><td>330.593880268136 </td><td>363.64753905464426</td><td>6685512542.454987  </td><td>11.017367160159942</td><td>11.004862882443364</td><td>10.37284020262888 </td><td>0.21860108791912758</td><td>1.8413988205795007</td><td>0.0  </td><td>10.372840202628879</td><td>0.0  </td></tr>\n",
       "<tr><td>zeros  </td><td>            </td><td>      </td><td>       </td><td>           </td><td>0                 </td><td>0                 </td><td>0                 </td><td>0                 </td><td>               </td><td>0                 </td><td>         </td><td>0                  </td><td>0                </td><td>0                 </td><td>12               </td><td>36                </td><td>        </td><td>      </td><td>0                </td><td>33                </td><td>32                </td><td>494                 </td><td>                  </td><td>525                  </td><td>405               </td><td>518               </td><td>422               </td><td>526            </td><td>404                </td><td>              </td><td>              </td><td>0                 </td><td>0                </td><td>0                </td><td>0                </td><td>0                 </td><td>0                  </td><td>0                 </td><td>0                 </td><td>0                 </td><td>148                </td><td>267               </td><td>526  </td><td>0                 </td><td>526  </td></tr>\n",
       "<tr><td>missing</td><td>0           </td><td>0     </td><td>0      </td><td>0          </td><td>32                </td><td>0                 </td><td>33                </td><td>0                 </td><td>0              </td><td>0                 </td><td>0        </td><td>33                 </td><td>0                </td><td>33                </td><td>33               </td><td>32                </td><td>0       </td><td>0     </td><td>0                </td><td>0                 </td><td>0                 </td><td>0                   </td><td>494               </td><td>0                    </td><td>0                 </td><td>0                 </td><td>0                 </td><td>0              </td><td>0                  </td><td>0             </td><td>0             </td><td>0                 </td><td>0                </td><td>33               </td><td>32               </td><td>33                </td><td>0                  </td><td>0                 </td><td>0                 </td><td>0                 </td><td>88                 </td><td>76                </td><td>0    </td><td>0                 </td><td>0    </td></tr>\n",
       "<tr><td>0      </td><td>1           </td><td>2005  </td><td>1      </td><td>6          </td><td>2220.0            </td><td>2045.0            </td><td>119.0             </td><td>2359.0            </td><td>UA             </td><td>544.0             </td><td>N325UA   </td><td>119.0              </td><td>134.0            </td><td>103.0             </td><td>80.0             </td><td>95.0              </td><td>ORD     </td><td>BOS   </td><td>867.0            </td><td>2.0               </td><td>14.0              </td><td>0.0                 </td><td>                  </td><td>0.0                  </td><td>58.0              </td><td>0.0               </td><td>0.0               </td><td>0.0            </td><td>22.0               </td><td>YES           </td><td>YES           </td><td>1439.0            </td><td>1245.0           </td><td>79.0             </td><td>1340.0           </td><td>1261.0            </td><td>2005-01-01 00:00:00</td><td>41.0              </td><td>25.0              </td><td>33.0              </td><td>0.31               </td><td>0.0               </td><td>0.0  </td><td>32.0              </td><td>0.0  </td></tr>\n",
       "<tr><td>1      </td><td>1           </td><td>2005  </td><td>1      </td><td>6          </td><td>2342.0            </td><td>2115.0            </td><td>151.0             </td><td>2319.0            </td><td>UA             </td><td>546.0             </td><td>N386UA   </td><td>69.0               </td><td>64.0             </td><td>42.0              </td><td>152.0            </td><td>147.0             </td><td>ORD     </td><td>DAY   </td><td>240.0            </td><td>7.0               </td><td>20.0              </td><td>0.0                 </td><td>                  </td><td>0.0                  </td><td>7.0               </td><td>0.0               </td><td>5.0               </td><td>0.0            </td><td>140.0              </td><td>YES           </td><td>YES           </td><td>1399.0            </td><td>1275.0           </td><td>111.0            </td><td>1422.0           </td><td>1311.0            </td><td>2005-01-01 00:00:00</td><td>41.0              </td><td>25.0              </td><td>33.0              </td><td>0.31               </td><td>0.0               </td><td>0.0  </td><td>32.0              </td><td>0.0  </td></tr>\n",
       "<tr><td>2      </td><td>1           </td><td>2005  </td><td>1      </td><td>6          </td><td>1303.0            </td><td>1205.0            </td><td>1435.0            </td><td>1329.0            </td><td>UA             </td><td>547.0             </td><td>N849UA   </td><td>92.0               </td><td>84.0             </td><td>69.0              </td><td>66.0             </td><td>58.0              </td><td>ORD     </td><td>MSP   </td><td>334.0            </td><td>8.0               </td><td>15.0              </td><td>0.0                 </td><td>                  </td><td>0.0                  </td><td>0.0               </td><td>0.0               </td><td>8.0               </td><td>0.0            </td><td>58.0               </td><td>YES           </td><td>YES           </td><td>809.0             </td><td>725.0            </td><td>875.0            </td><td>783.0            </td><td>92.0              </td><td>2005-01-01 00:00:00</td><td>41.0              </td><td>25.0              </td><td>33.0              </td><td>0.31               </td><td>0.0               </td><td>0.0  </td><td>32.0              </td><td>0.0  </td></tr>\n",
       "<tr><td>3      </td><td>1           </td><td>2005  </td><td>1      </td><td>6          </td><td>1213.0            </td><td>1215.0            </td><td>1344.0            </td><td>1353.0            </td><td>UA             </td><td>553.0             </td><td>N912UA   </td><td>91.0               </td><td>98.0             </td><td>73.0              </td><td>-9.0             </td><td>-2.0              </td><td>ORD     </td><td>OMA   </td><td>416.0            </td><td>3.0               </td><td>15.0              </td><td>0.0                 </td><td>                  </td><td>0.0                  </td><td>0.0               </td><td>0.0               </td><td>0.0               </td><td>0.0            </td><td>0.0                </td><td>NO            </td><td>NO            </td><td>833.0             </td><td>735.0            </td><td>824.0            </td><td>733.0            </td><td>91.0              </td><td>2005-01-01 00:00:00</td><td>41.0              </td><td>25.0              </td><td>33.0              </td><td>0.31               </td><td>0.0               </td><td>0.0  </td><td>32.0              </td><td>0.0  </td></tr>\n",
       "<tr><td>4      </td><td>1           </td><td>2005  </td><td>1      </td><td>6          </td><td>646.0             </td><td>650.0             </td><td>901.0             </td><td>916.0             </td><td>UA             </td><td>556.0             </td><td>N914UA   </td><td>75.0               </td><td>86.0             </td><td>60.0              </td><td>-15.0            </td><td>-4.0              </td><td>ORD     </td><td>PIT   </td><td>412.0            </td><td>4.0               </td><td>11.0              </td><td>0.0                 </td><td>                  </td><td>0.0                  </td><td>0.0               </td><td>0.0               </td><td>0.0               </td><td>0.0            </td><td>0.0                </td><td>NO            </td><td>NO            </td><td>556.0             </td><td>410.0            </td><td>541.0            </td><td>406.0            </td><td>135.0             </td><td>2005-01-01 00:00:00</td><td>41.0              </td><td>25.0              </td><td>33.0              </td><td>0.31               </td><td>0.0               </td><td>0.0  </td><td>32.0              </td><td>0.0  </td></tr>\n",
       "<tr><td>5      </td><td>1           </td><td>2005  </td><td>1      </td><td>6          </td><td>1457.0            </td><td>1500.0            </td><td>1755.0            </td><td>1742.0            </td><td>UA             </td><td>559.0             </td><td>N531UA   </td><td>298.0              </td><td>282.0            </td><td>268.0             </td><td>13.0             </td><td>-3.0              </td><td>ORD     </td><td>SJC   </td><td>1829.0           </td><td>4.0               </td><td>26.0              </td><td>0.0                 </td><td>                  </td><td>0.0                  </td><td>0.0               </td><td>0.0               </td><td>0.0               </td><td>0.0            </td><td>0.0                </td><td>YES           </td><td>NO            </td><td>1062.0            </td><td>900.0            </td><td>1075.0           </td><td>897.0            </td><td>178.0             </td><td>2005-01-01 00:00:00</td><td>41.0              </td><td>25.0              </td><td>33.0              </td><td>0.31               </td><td>0.0               </td><td>0.0  </td><td>32.0              </td><td>0.0  </td></tr>\n",
       "<tr><td>6      </td><td>1           </td><td>2005  </td><td>1      </td><td>6          </td><td>1348.0            </td><td>1335.0            </td><td>1612.0            </td><td>1615.0            </td><td>UA             </td><td>562.0             </td><td>N938UA   </td><td>84.0               </td><td>100.0            </td><td>62.0              </td><td>-3.0             </td><td>13.0              </td><td>ORD     </td><td>BUF   </td><td>473.0            </td><td>3.0               </td><td>19.0              </td><td>0.0                 </td><td>                  </td><td>0.0                  </td><td>0.0               </td><td>0.0               </td><td>0.0               </td><td>0.0            </td><td>0.0                </td><td>NO            </td><td>YES           </td><td>975.0             </td><td>815.0            </td><td>972.0            </td><td>828.0            </td><td>144.0             </td><td>2005-01-01 00:00:00</td><td>41.0              </td><td>25.0              </td><td>33.0              </td><td>0.31               </td><td>0.0               </td><td>0.0  </td><td>32.0              </td><td>0.0  </td></tr>\n",
       "<tr><td>7      </td><td>1           </td><td>2005  </td><td>1      </td><td>6          </td><td>nan               </td><td>1605.0            </td><td>nan               </td><td>1828.0            </td><td>UA             </td><td>564.0             </td><td>000000   </td><td>nan                </td><td>83.0             </td><td>nan               </td><td>nan              </td><td>nan               </td><td>ORD     </td><td>CLE   </td><td>316.0            </td><td>0.0               </td><td>0.0               </td><td>1.0                 </td><td>A                 </td><td>0.0                  </td><td>0.0               </td><td>0.0               </td><td>0.0               </td><td>0.0            </td><td>0.0                </td><td>YES           </td><td>YES           </td><td>1108.0            </td><td>965.0            </td><td>nan              </td><td>nan              </td><td>nan               </td><td>2005-01-01 00:00:00</td><td>41.0              </td><td>25.0              </td><td>33.0              </td><td>0.31               </td><td>0.0               </td><td>0.0  </td><td>32.0              </td><td>0.0  </td></tr>\n",
       "<tr><td>8      </td><td>1           </td><td>2005  </td><td>1      </td><td>6          </td><td>2000.0            </td><td>1955.0            </td><td>2255.0            </td><td>2231.0            </td><td>UA             </td><td>565.0             </td><td>N342UA   </td><td>235.0              </td><td>216.0            </td><td>198.0             </td><td>24.0             </td><td>5.0               </td><td>ORD     </td><td>SLC   </td><td>1249.0           </td><td>3.0               </td><td>34.0              </td><td>0.0                 </td><td>                  </td><td>0.0                  </td><td>0.0               </td><td>0.0               </td><td>24.0              </td><td>0.0            </td><td>0.0                </td><td>YES           </td><td>YES           </td><td>1351.0            </td><td>1195.0           </td><td>1375.0           </td><td>1200.0           </td><td>175.0             </td><td>2005-01-01 00:00:00</td><td>41.0              </td><td>25.0              </td><td>33.0              </td><td>0.31               </td><td>0.0               </td><td>0.0  </td><td>32.0              </td><td>0.0  </td></tr>\n",
       "<tr><td>9      </td><td>1           </td><td>2005  </td><td>1      </td><td>6          </td><td>1830.0            </td><td>1745.0            </td><td>2123.0            </td><td>2053.0            </td><td>UA             </td><td>566.0             </td><td>N932UA   </td><td>113.0              </td><td>128.0            </td><td>89.0              </td><td>30.0             </td><td>45.0              </td><td>ORD     </td><td>ATL   </td><td>606.0            </td><td>5.0               </td><td>19.0              </td><td>0.0                 </td><td>                  </td><td>0.0                  </td><td>15.0              </td><td>0.0               </td><td>0.0               </td><td>0.0            </td><td>15.0               </td><td>YES           </td><td>YES           </td><td>1253.0            </td><td>1065.0           </td><td>1283.0           </td><td>1110.0           </td><td>173.0             </td><td>2005-01-01 00:00:00</td><td>41.0              </td><td>25.0              </td><td>33.0              </td><td>0.31               </td><td>0.0               </td><td>0.0  </td><td>32.0              </td><td>0.0  </td></tr>\n",
       "</tbody>\n",
       "</table>"
      ]
     },
     "metadata": {},
     "output_type": "display_data"
    }
   ],
   "source": [
    "Merged_df.describe()"
   ]
  },
  {
   "cell_type": "code",
   "execution_count": 17,
   "metadata": {},
   "outputs": [],
   "source": [
    "# Select variables - actual arrival and departure times, though significant, should be avoided since we cannot source them ahead of time (for productionizing the model)\n",
    "Yvar = \"IsDepDelayed\"\n",
    "Xvar = [\"Year\", \"Month\", \"DayofMonth\", \"DayOfWeek\", \"CRSarrTimeMins\", \"CRSdepTimeMins\", \"ArrTimeMins\", \"DepTimeMins\", \"UniqueCarrier\", \"Dest\"]\n",
    "\n",
    "#add weather columns to Xvar, while avoiding duplicate keys\n",
    "weather_cols = weather_df.columns\n",
    "for x in [\"Year\",\"Month\",\"DayofMonth\"]:\n",
    "    weather_cols.remove(x)\n",
    "\n",
    "Xvar += weather_cols"
   ]
  },
  {
   "cell_type": "code",
   "execution_count": 18,
   "metadata": {},
   "outputs": [
    {
     "data": {
      "text/plain": [
       "['Year',\n",
       " 'Month',\n",
       " 'DayofMonth',\n",
       " 'DayOfWeek',\n",
       " 'CRSarrTimeMins',\n",
       " 'CRSdepTimeMins',\n",
       " 'ArrTimeMins',\n",
       " 'DepTimeMins',\n",
       " 'UniqueCarrier',\n",
       " 'Dest',\n",
       " 'Date',\n",
       " 'TmaxF',\n",
       " 'TminF',\n",
       " 'TmeanF',\n",
       " 'PrcpIn',\n",
       " 'SnowIn',\n",
       " 'CDD',\n",
       " 'HDD',\n",
       " 'GDD']"
      ]
     },
     "execution_count": 18,
     "metadata": {},
     "output_type": "execute_result"
    }
   ],
   "source": [
    "Xvar"
   ]
  },
  {
   "cell_type": "code",
   "execution_count": 19,
   "metadata": {},
   "outputs": [],
   "source": [
    "# Create test/train split\n",
    "split_df = Merged_df.split_frame(ratios=[0.75], seed=12345)"
   ]
  },
  {
   "cell_type": "code",
   "execution_count": 20,
   "metadata": {},
   "outputs": [
    {
     "name": "stdout",
     "output_type": "stream",
     "text": [
      "Rows:395\n",
      "Cols:45\n",
      "\n",
      "\n"
     ]
    },
    {
     "data": {
      "text/html": [
       "<table>\n",
       "<thead>\n",
       "<tr><th>       </th><th>DayofMonth  </th><th>Year  </th><th>Month  </th><th>DayOfWeek  </th><th>DepTime         </th><th>CRSDepTime        </th><th>ArrTime           </th><th>CRSArrTime        </th><th>UniqueCarrier  </th><th>FlightNum        </th><th>TailNum  </th><th>ActualElapsedTime  </th><th>CRSElapsedTime    </th><th>AirTime          </th><th>ArrDelay          </th><th>DepDelay          </th><th>Origin  </th><th>Dest  </th><th>Distance         </th><th>TaxiIn            </th><th>TaxiOut           </th><th>Cancelled          </th><th>CancellationCode  </th><th>Diverted            </th><th>CarrierDelay      </th><th>WeatherDelay       </th><th>NASDelay          </th><th>SecurityDelay  </th><th>LateAircraftDelay  </th><th>IsArrDelayed  </th><th>IsDepDelayed  </th><th>CRSarrTimeMins    </th><th>CRSdepTimeMins   </th><th>ArrTimeMins       </th><th>DepTimeMins      </th><th>TravelTime        </th><th>Date               </th><th>TmaxF             </th><th>TminF             </th><th>TmeanF            </th><th>PrcpIn             </th><th>SnowIn            </th><th>CDD  </th><th>HDD              </th><th>GDD  </th></tr>\n",
       "</thead>\n",
       "<tbody>\n",
       "<tr><td>type   </td><td>enum        </td><td>enum  </td><td>enum   </td><td>enum       </td><td>int             </td><td>int               </td><td>int               </td><td>int               </td><td>enum           </td><td>int              </td><td>enum     </td><td>int                </td><td>int               </td><td>int              </td><td>int               </td><td>int               </td><td>enum    </td><td>enum  </td><td>int              </td><td>int               </td><td>int               </td><td>int                </td><td>enum              </td><td>int                 </td><td>int               </td><td>int                </td><td>int               </td><td>int            </td><td>int                </td><td>enum          </td><td>enum          </td><td>int               </td><td>int              </td><td>int               </td><td>int              </td><td>int               </td><td>time               </td><td>int               </td><td>int               </td><td>real              </td><td>real               </td><td>real              </td><td>int  </td><td>real             </td><td>int  </td></tr>\n",
       "<tr><td>mins   </td><td>            </td><td>      </td><td>       </td><td>           </td><td>10.0            </td><td>610.0             </td><td>1.0               </td><td>831.0             </td><td>               </td><td>8.0              </td><td>         </td><td>51.0               </td><td>64.0              </td><td>37.0             </td><td>-36.0             </td><td>-12.0             </td><td>        </td><td>      </td><td>240.0            </td><td>0.0               </td><td>0.0               </td><td>0.0                </td><td>                  </td><td>0.0                 </td><td>0.0               </td><td>0.0                </td><td>0.0               </td><td>0.0            </td><td>0.0                </td><td>              </td><td>              </td><td>511.0             </td><td>370.0            </td><td>1.0               </td><td>10.0             </td><td>69.0              </td><td>1104537600000.0    </td><td>11.0              </td><td>1.0               </td><td>6.5               </td><td>0.0                </td><td>0.0               </td><td>0.0  </td><td>17.0             </td><td>0.0  </td></tr>\n",
       "<tr><td>mean   </td><td>            </td><td>      </td><td>       </td><td>           </td><td>1391.5          </td><td>1376.2227848101265</td><td>1364.0650406504064</td><td>1628.5518987341773</td><td>               </td><td>574.9012658227848</td><td>         </td><td>139.6639566395664  </td><td>140.73417721518987</td><td>115.2710027100271</td><td>22.67750677506775 </td><td>24.964864864864865</td><td>        </td><td>      </td><td>794.4075949367088</td><td>4.832911392405063 </td><td>17.9873417721519  </td><td>0.06329113924050632</td><td>                  </td><td>0.002531645569620253</td><td>6.483544303797467 </td><td>0.18734177215189873</td><td>4.1746835443037975</td><td>0.0            </td><td>13.379746835443038 </td><td>              </td><td>              </td><td>991.1848101265823 </td><td>837.3873417721519</td><td>829.9728997289973 </td><td>847.0675675675676</td><td>279.64769647696477</td><td>1107348552911.3923 </td><td>32.36202531645569 </td><td>19.70632911392405 </td><td>26.034177215189874</td><td>0.14920245398773008</td><td>1.0473053892215567</td><td>0.0  </td><td>38.96582278481013</td><td>0.0  </td></tr>\n",
       "<tr><td>maxs   </td><td>            </td><td>      </td><td>       </td><td>           </td><td>2346.0          </td><td>2135.0            </td><td>2358.0            </td><td>2359.0            </td><td>               </td><td>1698.0           </td><td>         </td><td>306.0              </td><td>282.0             </td><td>277.0            </td><td>299.0             </td><td>319.0             </td><td>        </td><td>      </td><td>1829.0           </td><td>41.0              </td><td>73.0              </td><td>1.0                </td><td>                  </td><td>1.0                 </td><td>130.0             </td><td>44.0               </td><td>141.0             </td><td>0.0            </td><td>253.0              </td><td>              </td><td>              </td><td>1439.0            </td><td>1295.0           </td><td>1438.0            </td><td>1426.0           </td><td>1322.0            </td><td>1136937600000.0    </td><td>62.0              </td><td>37.0              </td><td>48.0              </td><td>0.89               </td><td>6.2               </td><td>0.0  </td><td>58.5             </td><td>0.0  </td></tr>\n",
       "<tr><td>sigma  </td><td>            </td><td>      </td><td>       </td><td>           </td><td>546.291697942768</td><td>499.97420338259724</td><td>671.9019331083518 </td><td>520.9171180459414 </td><td>               </td><td>120.0757073933268</td><td>         </td><td>65.7624250663463   </td><td>63.35103011609634 </td><td>64.39827881613739</td><td>48.459435728846884</td><td>46.90209323956333 </td><td>        </td><td>      </td><td>462.0183522439242</td><td>3.8870382523686975</td><td>10.474883751927651</td><td>0.2437946706118688 </td><td>                  </td><td>0.05031546054266276 </td><td>16.367654359542122</td><td>2.503873501157533  </td><td>12.722431809836781</td><td>0.0            </td><td>34.99546881382212  </td><td>              </td><td>              </td><td>314.34374274219203</td><td>302.8110924444197</td><td>404.59739022468136</td><td>328.3169915078512</td><td>361.2634990728269 </td><td>6886301251.145824  </td><td>10.543026465640452</td><td>10.769614872905088</td><td>10.041448189637032</td><td>0.20126823004321534</td><td>1.8822009470181056</td><td>0.0  </td><td>10.04144818963703</td><td>0.0  </td></tr>\n",
       "<tr><td>zeros  </td><td>            </td><td>      </td><td>       </td><td>           </td><td>0               </td><td>0                 </td><td>0                 </td><td>0                 </td><td>               </td><td>0                </td><td>         </td><td>0                  </td><td>0                 </td><td>0                </td><td>9                 </td><td>23                </td><td>        </td><td>      </td><td>0                </td><td>26                </td><td>25                </td><td>370                </td><td>                  </td><td>394                 </td><td>301               </td><td>392                </td><td>320               </td><td>395            </td><td>308                </td><td>              </td><td>              </td><td>0                 </td><td>0                </td><td>0                 </td><td>0                </td><td>0                 </td><td>0                  </td><td>0                 </td><td>0                 </td><td>0                 </td><td>115                </td><td>202               </td><td>395  </td><td>0                </td><td>395  </td></tr>\n",
       "<tr><td>missing</td><td>0           </td><td>0     </td><td>0      </td><td>0          </td><td>25              </td><td>0                 </td><td>26                </td><td>0                 </td><td>0              </td><td>0                </td><td>0        </td><td>26                 </td><td>0                 </td><td>26               </td><td>26                </td><td>25                </td><td>0       </td><td>0     </td><td>0                </td><td>0                 </td><td>0                 </td><td>0                  </td><td>370               </td><td>0                   </td><td>0                 </td><td>0                  </td><td>0                 </td><td>0              </td><td>0                  </td><td>0             </td><td>0             </td><td>0                 </td><td>0                </td><td>26                </td><td>25               </td><td>26                </td><td>0                  </td><td>0                 </td><td>0                 </td><td>0                 </td><td>69                 </td><td>61                </td><td>0    </td><td>0                </td><td>0    </td></tr>\n",
       "<tr><td>0      </td><td>1           </td><td>2005  </td><td>1      </td><td>6          </td><td>2220.0          </td><td>2045.0            </td><td>119.0             </td><td>2359.0            </td><td>UA             </td><td>544.0            </td><td>N325UA   </td><td>119.0              </td><td>134.0             </td><td>103.0            </td><td>80.0              </td><td>95.0              </td><td>ORD     </td><td>BOS   </td><td>867.0            </td><td>2.0               </td><td>14.0              </td><td>0.0                </td><td>                  </td><td>0.0                 </td><td>58.0              </td><td>0.0                </td><td>0.0               </td><td>0.0            </td><td>22.0               </td><td>YES           </td><td>YES           </td><td>1439.0            </td><td>1245.0           </td><td>79.0              </td><td>1340.0           </td><td>1261.0            </td><td>2005-01-01 00:00:00</td><td>41.0              </td><td>25.0              </td><td>33.0              </td><td>0.31               </td><td>0.0               </td><td>0.0  </td><td>32.0             </td><td>0.0  </td></tr>\n",
       "<tr><td>1      </td><td>1           </td><td>2005  </td><td>1      </td><td>6          </td><td>2342.0          </td><td>2115.0            </td><td>151.0             </td><td>2319.0            </td><td>UA             </td><td>546.0            </td><td>N386UA   </td><td>69.0               </td><td>64.0              </td><td>42.0             </td><td>152.0             </td><td>147.0             </td><td>ORD     </td><td>DAY   </td><td>240.0            </td><td>7.0               </td><td>20.0              </td><td>0.0                </td><td>                  </td><td>0.0                 </td><td>7.0               </td><td>0.0                </td><td>5.0               </td><td>0.0            </td><td>140.0              </td><td>YES           </td><td>YES           </td><td>1399.0            </td><td>1275.0           </td><td>111.0             </td><td>1422.0           </td><td>1311.0            </td><td>2005-01-01 00:00:00</td><td>41.0              </td><td>25.0              </td><td>33.0              </td><td>0.31               </td><td>0.0               </td><td>0.0  </td><td>32.0             </td><td>0.0  </td></tr>\n",
       "<tr><td>2      </td><td>1           </td><td>2005  </td><td>1      </td><td>6          </td><td>1303.0          </td><td>1205.0            </td><td>1435.0            </td><td>1329.0            </td><td>UA             </td><td>547.0            </td><td>N849UA   </td><td>92.0               </td><td>84.0              </td><td>69.0             </td><td>66.0              </td><td>58.0              </td><td>ORD     </td><td>MSP   </td><td>334.0            </td><td>8.0               </td><td>15.0              </td><td>0.0                </td><td>                  </td><td>0.0                 </td><td>0.0               </td><td>0.0                </td><td>8.0               </td><td>0.0            </td><td>58.0               </td><td>YES           </td><td>YES           </td><td>809.0             </td><td>725.0            </td><td>875.0             </td><td>783.0            </td><td>92.0              </td><td>2005-01-01 00:00:00</td><td>41.0              </td><td>25.0              </td><td>33.0              </td><td>0.31               </td><td>0.0               </td><td>0.0  </td><td>32.0             </td><td>0.0  </td></tr>\n",
       "<tr><td>3      </td><td>1           </td><td>2005  </td><td>1      </td><td>6          </td><td>646.0           </td><td>650.0             </td><td>901.0             </td><td>916.0             </td><td>UA             </td><td>556.0            </td><td>N914UA   </td><td>75.0               </td><td>86.0              </td><td>60.0             </td><td>-15.0             </td><td>-4.0              </td><td>ORD     </td><td>PIT   </td><td>412.0            </td><td>4.0               </td><td>11.0              </td><td>0.0                </td><td>                  </td><td>0.0                 </td><td>0.0               </td><td>0.0                </td><td>0.0               </td><td>0.0            </td><td>0.0                </td><td>NO            </td><td>NO            </td><td>556.0             </td><td>410.0            </td><td>541.0             </td><td>406.0            </td><td>135.0             </td><td>2005-01-01 00:00:00</td><td>41.0              </td><td>25.0              </td><td>33.0              </td><td>0.31               </td><td>0.0               </td><td>0.0  </td><td>32.0             </td><td>0.0  </td></tr>\n",
       "<tr><td>4      </td><td>1           </td><td>2005  </td><td>1      </td><td>6          </td><td>1457.0          </td><td>1500.0            </td><td>1755.0            </td><td>1742.0            </td><td>UA             </td><td>559.0            </td><td>N531UA   </td><td>298.0              </td><td>282.0             </td><td>268.0            </td><td>13.0              </td><td>-3.0              </td><td>ORD     </td><td>SJC   </td><td>1829.0           </td><td>4.0               </td><td>26.0              </td><td>0.0                </td><td>                  </td><td>0.0                 </td><td>0.0               </td><td>0.0                </td><td>0.0               </td><td>0.0            </td><td>0.0                </td><td>YES           </td><td>NO            </td><td>1062.0            </td><td>900.0            </td><td>1075.0            </td><td>897.0            </td><td>178.0             </td><td>2005-01-01 00:00:00</td><td>41.0              </td><td>25.0              </td><td>33.0              </td><td>0.31               </td><td>0.0               </td><td>0.0  </td><td>32.0             </td><td>0.0  </td></tr>\n",
       "<tr><td>5      </td><td>1           </td><td>2005  </td><td>1      </td><td>6          </td><td>1348.0          </td><td>1335.0            </td><td>1612.0            </td><td>1615.0            </td><td>UA             </td><td>562.0            </td><td>N938UA   </td><td>84.0               </td><td>100.0             </td><td>62.0             </td><td>-3.0              </td><td>13.0              </td><td>ORD     </td><td>BUF   </td><td>473.0            </td><td>3.0               </td><td>19.0              </td><td>0.0                </td><td>                  </td><td>0.0                 </td><td>0.0               </td><td>0.0                </td><td>0.0               </td><td>0.0            </td><td>0.0                </td><td>NO            </td><td>YES           </td><td>975.0             </td><td>815.0            </td><td>972.0             </td><td>828.0            </td><td>144.0             </td><td>2005-01-01 00:00:00</td><td>41.0              </td><td>25.0              </td><td>33.0              </td><td>0.31               </td><td>0.0               </td><td>0.0  </td><td>32.0             </td><td>0.0  </td></tr>\n",
       "<tr><td>6      </td><td>1           </td><td>2005  </td><td>1      </td><td>6          </td><td>2000.0          </td><td>1955.0            </td><td>2255.0            </td><td>2231.0            </td><td>UA             </td><td>565.0            </td><td>N342UA   </td><td>235.0              </td><td>216.0             </td><td>198.0            </td><td>24.0              </td><td>5.0               </td><td>ORD     </td><td>SLC   </td><td>1249.0           </td><td>3.0               </td><td>34.0              </td><td>0.0                </td><td>                  </td><td>0.0                 </td><td>0.0               </td><td>0.0                </td><td>24.0              </td><td>0.0            </td><td>0.0                </td><td>YES           </td><td>YES           </td><td>1351.0            </td><td>1195.0           </td><td>1375.0            </td><td>1200.0           </td><td>175.0             </td><td>2005-01-01 00:00:00</td><td>41.0              </td><td>25.0              </td><td>33.0              </td><td>0.31               </td><td>0.0               </td><td>0.0  </td><td>32.0             </td><td>0.0  </td></tr>\n",
       "<tr><td>7      </td><td>1           </td><td>2005  </td><td>1      </td><td>6          </td><td>1653.0          </td><td>1645.0            </td><td>1808.0            </td><td>1803.0            </td><td>UA             </td><td>571.0            </td><td>N908UA   </td><td>75.0               </td><td>78.0              </td><td>55.0             </td><td>5.0               </td><td>8.0               </td><td>ORD     </td><td>DSM   </td><td>299.0            </td><td>4.0               </td><td>16.0              </td><td>0.0                </td><td>                  </td><td>0.0                 </td><td>0.0               </td><td>0.0                </td><td>0.0               </td><td>0.0            </td><td>0.0                </td><td>YES           </td><td>YES           </td><td>1083.0            </td><td>1005.0           </td><td>1088.0            </td><td>1013.0           </td><td>75.0              </td><td>2005-01-01 00:00:00</td><td>41.0              </td><td>25.0              </td><td>33.0              </td><td>0.31               </td><td>0.0               </td><td>0.0  </td><td>32.0             </td><td>0.0  </td></tr>\n",
       "<tr><td>8      </td><td>1           </td><td>2005  </td><td>1      </td><td>6          </td><td>1001.0          </td><td>1010.0            </td><td>1237.0            </td><td>1252.0            </td><td>UA             </td><td>573.0            </td><td>N929UA   </td><td>156.0              </td><td>162.0             </td><td>137.0            </td><td>-15.0             </td><td>-9.0              </td><td>ORD     </td><td>IAH   </td><td>925.0            </td><td>2.0               </td><td>17.0              </td><td>0.0                </td><td>                  </td><td>0.0                 </td><td>0.0               </td><td>0.0                </td><td>0.0               </td><td>0.0            </td><td>0.0                </td><td>NO            </td><td>NO            </td><td>772.0             </td><td>610.0            </td><td>757.0             </td><td>601.0            </td><td>156.0             </td><td>2005-01-01 00:00:00</td><td>41.0              </td><td>25.0              </td><td>33.0              </td><td>0.31               </td><td>0.0               </td><td>0.0  </td><td>32.0             </td><td>0.0  </td></tr>\n",
       "<tr><td>9      </td><td>1           </td><td>2005  </td><td>1      </td><td>6          </td><td>1526.0          </td><td>1515.0            </td><td>1736.0            </td><td>1744.0            </td><td>UA             </td><td>575.0            </td><td>N430UA   </td><td>250.0              </td><td>269.0             </td><td>228.0            </td><td>-8.0              </td><td>11.0              </td><td>ORD     </td><td>SEA   </td><td>1721.0           </td><td>4.0               </td><td>18.0              </td><td>0.0                </td><td>                  </td><td>0.0                 </td><td>0.0               </td><td>0.0                </td><td>0.0               </td><td>0.0            </td><td>0.0                </td><td>NO            </td><td>YES           </td><td>1064.0            </td><td>915.0            </td><td>1056.0            </td><td>926.0            </td><td>130.0             </td><td>2005-01-01 00:00:00</td><td>41.0              </td><td>25.0              </td><td>33.0              </td><td>0.31               </td><td>0.0               </td><td>0.0  </td><td>32.0             </td><td>0.0  </td></tr>\n",
       "</tbody>\n",
       "</table>"
      ]
     },
     "metadata": {},
     "output_type": "display_data"
    },
    {
     "name": "stdout",
     "output_type": "stream",
     "text": [
      "Rows:131\n",
      "Cols:45\n",
      "\n",
      "\n"
     ]
    },
    {
     "data": {
      "text/html": [
       "<table>\n",
       "<thead>\n",
       "<tr><th>       </th><th>DayofMonth  </th><th>Year  </th><th>Month  </th><th>DayOfWeek  </th><th>DepTime           </th><th>CRSDepTime        </th><th>ArrTime           </th><th>CRSArrTime        </th><th>UniqueCarrier  </th><th>FlightNum         </th><th>TailNum  </th><th>ActualElapsedTime  </th><th>CRSElapsedTime    </th><th>AirTime           </th><th>ArrDelay          </th><th>DepDelay          </th><th>Origin  </th><th>Dest  </th><th>Distance         </th><th>TaxiIn            </th><th>TaxiOut           </th><th>Cancelled          </th><th>CancellationCode  </th><th>Diverted  </th><th>CarrierDelay      </th><th>WeatherDelay      </th><th>NASDelay          </th><th>SecurityDelay  </th><th>LateAircraftDelay  </th><th>IsArrDelayed  </th><th>IsDepDelayed  </th><th>CRSarrTimeMins   </th><th>CRSdepTimeMins   </th><th>ArrTimeMins       </th><th>DepTimeMins      </th><th>TravelTime        </th><th>Date               </th><th>TmaxF            </th><th>TminF             </th><th>TmeanF            </th><th>PrcpIn             </th><th>SnowIn            </th><th>CDD  </th><th>HDD               </th><th>GDD  </th></tr>\n",
       "</thead>\n",
       "<tbody>\n",
       "<tr><td>type   </td><td>enum        </td><td>enum  </td><td>enum   </td><td>enum       </td><td>int               </td><td>int               </td><td>int               </td><td>int               </td><td>enum           </td><td>int               </td><td>enum     </td><td>int                </td><td>int               </td><td>int               </td><td>int               </td><td>int               </td><td>enum    </td><td>enum  </td><td>int              </td><td>int               </td><td>int               </td><td>int                </td><td>enum              </td><td>int       </td><td>int               </td><td>int               </td><td>int               </td><td>int            </td><td>int                </td><td>enum          </td><td>enum          </td><td>int              </td><td>int              </td><td>int               </td><td>int              </td><td>int               </td><td>time               </td><td>int              </td><td>int               </td><td>real              </td><td>real               </td><td>real              </td><td>int  </td><td>real              </td><td>int  </td></tr>\n",
       "<tr><td>mins   </td><td>            </td><td>      </td><td>       </td><td>           </td><td>557.0             </td><td>600.0             </td><td>9.0               </td><td>855.0             </td><td>               </td><td>516.0             </td><td>         </td><td>56.0               </td><td>64.0              </td><td>38.0              </td><td>-28.0             </td><td>-10.0             </td><td>        </td><td>      </td><td>240.0            </td><td>0.0               </td><td>0.0               </td><td>0.0                </td><td>                  </td><td>0.0       </td><td>0.0               </td><td>0.0               </td><td>0.0               </td><td>0.0            </td><td>0.0                </td><td>              </td><td>              </td><td>535.0            </td><td>360.0            </td><td>9.0               </td><td>357.0            </td><td>75.0              </td><td>1104537600000.0    </td><td>11.0             </td><td>1.0               </td><td>6.5               </td><td>0.0                </td><td>0.0               </td><td>0.0  </td><td>17.0              </td><td>0.0  </td></tr>\n",
       "<tr><td>mean   </td><td>            </td><td>      </td><td>       </td><td>           </td><td>1353.1209677419354</td><td>1325.4198473282443</td><td>1309.3629032258063</td><td>1572.2900763358778</td><td>               </td><td>592.7480916030535 </td><td>         </td><td>143.33870967741936 </td><td>142.44274809160305</td><td>119.20161290322581</td><td>23.822580645161292</td><td>24.975806451612904</td><td>        </td><td>      </td><td>817.6564885496183</td><td>4.412213740458015 </td><td>18.435114503816795</td><td>0.05343511450381679</td><td>                  </td><td>0.0       </td><td>5.923664122137405 </td><td>0.8473282442748091</td><td>4.1603053435114505</td><td>0.0            </td><td>14.259541984732824 </td><td>              </td><td>              </td><td>956.7175572519084</td><td>806.9465648854962</td><td>797.4274193548387 </td><td>823.4435483870968</td><td>283.51612903225805</td><td>1106912610687.023  </td><td>32.49618320610687</td><td>18.778625954198475</td><td>25.637404580152673</td><td>0.1904464285714286 </td><td>0.9948275862068966</td><td>0.0  </td><td>39.36259541984733 </td><td>0.0  </td></tr>\n",
       "<tr><td>maxs   </td><td>            </td><td>      </td><td>       </td><td>           </td><td>2354.0            </td><td>2135.0            </td><td>2400.0            </td><td>2359.0            </td><td>               </td><td>1673.0            </td><td>         </td><td>288.0              </td><td>282.0             </td><td>266.0             </td><td>232.0             </td><td>235.0             </td><td>        </td><td>      </td><td>1829.0           </td><td>13.0              </td><td>60.0              </td><td>1.0                </td><td>                  </td><td>0.0       </td><td>86.0              </td><td>59.0              </td><td>51.0              </td><td>0.0            </td><td>190.0              </td><td>              </td><td>              </td><td>1439.0           </td><td>1295.0           </td><td>1440.0            </td><td>1434.0           </td><td>1324.0            </td><td>1136937600000.0    </td><td>62.0             </td><td>37.0              </td><td>48.0              </td><td>0.89               </td><td>6.2               </td><td>0.0  </td><td>58.5              </td><td>0.0  </td></tr>\n",
       "<tr><td>sigma  </td><td>            </td><td>      </td><td>       </td><td>           </td><td>562.9600571072897 </td><td>517.540053510517  </td><td>653.444859420975  </td><td>531.2072243564236 </td><td>               </td><td>113.91524133261741</td><td>         </td><td>69.96676180638293  </td><td>67.52209442446838 </td><td>69.00052784512485 </td><td>46.49172465696244 </td><td>45.00342601405903 </td><td>        </td><td>      </td><td>500.419820227782 </td><td>2.5984321574827614</td><td>10.648292919626725</td><td>0.22576288102740558</td><td>                  </td><td>0.0       </td><td>15.233373443559167</td><td>5.684626071787156 </td><td>10.085646155184437</td><td>0.0            </td><td>34.83799600927778  </td><td>              </td><td>              </td><td>320.7683150190195</td><td>313.4783592819594</td><td>392.59365147315606</td><td>338.0240599128848</td><td>372.12089310778134</td><td>6052853223.973123  </td><td>12.38135946667814</td><td>11.700946757444543</td><td>11.349356714253167</td><td>0.26124231405688597</td><td>1.725756032311193 </td><td>0.0  </td><td>11.349356714253167</td><td>0.0  </td></tr>\n",
       "<tr><td>zeros  </td><td>            </td><td>      </td><td>       </td><td>           </td><td>0                 </td><td>0                 </td><td>0                 </td><td>0                 </td><td>               </td><td>0                 </td><td>         </td><td>0                  </td><td>0                 </td><td>0                 </td><td>3                 </td><td>13                </td><td>        </td><td>      </td><td>0                </td><td>7                 </td><td>7                 </td><td>124                </td><td>                  </td><td>131       </td><td>104               </td><td>126               </td><td>102               </td><td>131            </td><td>96                 </td><td>              </td><td>              </td><td>0                </td><td>0                </td><td>0                 </td><td>0                </td><td>0                 </td><td>0                  </td><td>0                </td><td>0                 </td><td>0                 </td><td>33                 </td><td>65                </td><td>131  </td><td>0                 </td><td>131  </td></tr>\n",
       "<tr><td>missing</td><td>0           </td><td>0     </td><td>0      </td><td>0          </td><td>7                 </td><td>0                 </td><td>7                 </td><td>0                 </td><td>0              </td><td>0                 </td><td>0        </td><td>7                  </td><td>0                 </td><td>7                 </td><td>7                 </td><td>7                 </td><td>0       </td><td>0     </td><td>0                </td><td>0                 </td><td>0                 </td><td>0                  </td><td>124               </td><td>0         </td><td>0                 </td><td>0                 </td><td>0                 </td><td>0              </td><td>0                  </td><td>0             </td><td>0             </td><td>0                </td><td>0                </td><td>7                 </td><td>7                </td><td>7                 </td><td>0                  </td><td>0                </td><td>0                 </td><td>0                 </td><td>19                 </td><td>15                </td><td>0    </td><td>0                 </td><td>0    </td></tr>\n",
       "<tr><td>0      </td><td>1           </td><td>2005  </td><td>1      </td><td>6          </td><td>1213.0            </td><td>1215.0            </td><td>1344.0            </td><td>1353.0            </td><td>UA             </td><td>553.0             </td><td>N912UA   </td><td>91.0               </td><td>98.0              </td><td>73.0              </td><td>-9.0              </td><td>-2.0              </td><td>ORD     </td><td>OMA   </td><td>416.0            </td><td>3.0               </td><td>15.0              </td><td>0.0                </td><td>                  </td><td>0.0       </td><td>0.0               </td><td>0.0               </td><td>0.0               </td><td>0.0            </td><td>0.0                </td><td>NO            </td><td>NO            </td><td>833.0            </td><td>735.0            </td><td>824.0             </td><td>733.0            </td><td>91.0              </td><td>2005-01-01 00:00:00</td><td>41.0             </td><td>25.0              </td><td>33.0              </td><td>0.31               </td><td>0.0               </td><td>0.0  </td><td>32.0              </td><td>0.0  </td></tr>\n",
       "<tr><td>1      </td><td>1           </td><td>2005  </td><td>1      </td><td>6          </td><td>nan               </td><td>1605.0            </td><td>nan               </td><td>1828.0            </td><td>UA             </td><td>564.0             </td><td>000000   </td><td>nan                </td><td>83.0              </td><td>nan               </td><td>nan               </td><td>nan               </td><td>ORD     </td><td>CLE   </td><td>316.0            </td><td>0.0               </td><td>0.0               </td><td>1.0                </td><td>A                 </td><td>0.0       </td><td>0.0               </td><td>0.0               </td><td>0.0               </td><td>0.0            </td><td>0.0                </td><td>YES           </td><td>YES           </td><td>1108.0           </td><td>965.0            </td><td>nan               </td><td>nan              </td><td>nan               </td><td>2005-01-01 00:00:00</td><td>41.0             </td><td>25.0              </td><td>33.0              </td><td>0.31               </td><td>0.0               </td><td>0.0  </td><td>32.0              </td><td>0.0  </td></tr>\n",
       "<tr><td>2      </td><td>1           </td><td>2005  </td><td>1      </td><td>6          </td><td>1830.0            </td><td>1745.0            </td><td>2123.0            </td><td>2053.0            </td><td>UA             </td><td>566.0             </td><td>N932UA   </td><td>113.0              </td><td>128.0             </td><td>89.0              </td><td>30.0              </td><td>45.0              </td><td>ORD     </td><td>ATL   </td><td>606.0            </td><td>5.0               </td><td>19.0              </td><td>0.0                </td><td>                  </td><td>0.0       </td><td>15.0              </td><td>0.0               </td><td>0.0               </td><td>0.0            </td><td>15.0               </td><td>YES           </td><td>YES           </td><td>1253.0           </td><td>1065.0           </td><td>1283.0            </td><td>1110.0           </td><td>173.0             </td><td>2005-01-01 00:00:00</td><td>41.0             </td><td>25.0              </td><td>33.0              </td><td>0.31               </td><td>0.0               </td><td>0.0  </td><td>32.0              </td><td>0.0  </td></tr>\n",
       "<tr><td>3      </td><td>1           </td><td>2005  </td><td>1      </td><td>6          </td><td>1724.0            </td><td>1655.0            </td><td>1956.0            </td><td>1923.0            </td><td>UA             </td><td>583.0             </td><td>N420UA   </td><td>272.0              </td><td>268.0             </td><td>251.0             </td><td>33.0              </td><td>29.0              </td><td>ORD     </td><td>SAN   </td><td>1723.0           </td><td>2.0               </td><td>19.0              </td><td>0.0                </td><td>                  </td><td>0.0       </td><td>23.0              </td><td>0.0               </td><td>4.0               </td><td>0.0            </td><td>6.0                </td><td>YES           </td><td>YES           </td><td>1163.0           </td><td>1015.0           </td><td>1196.0            </td><td>1044.0           </td><td>152.0             </td><td>2005-01-01 00:00:00</td><td>41.0             </td><td>25.0              </td><td>33.0              </td><td>0.31               </td><td>0.0               </td><td>0.0  </td><td>32.0              </td><td>0.0  </td></tr>\n",
       "<tr><td>4      </td><td>1           </td><td>2005  </td><td>1      </td><td>6          </td><td>2120.0            </td><td>2120.0            </td><td>2325.0            </td><td>2340.0            </td><td>UA             </td><td>588.0             </td><td>N375UA   </td><td>65.0               </td><td>80.0              </td><td>44.0              </td><td>-15.0             </td><td>0.0               </td><td>ORD     </td><td>CMH   </td><td>296.0            </td><td>5.0               </td><td>16.0              </td><td>0.0                </td><td>                  </td><td>0.0       </td><td>0.0               </td><td>0.0               </td><td>0.0               </td><td>0.0            </td><td>0.0                </td><td>NO            </td><td>NO            </td><td>1420.0           </td><td>1280.0           </td><td>1405.0            </td><td>1280.0           </td><td>125.0             </td><td>2005-01-01 00:00:00</td><td>41.0             </td><td>25.0              </td><td>33.0              </td><td>0.31               </td><td>0.0               </td><td>0.0  </td><td>32.0              </td><td>0.0  </td></tr>\n",
       "<tr><td>5      </td><td>1           </td><td>2005  </td><td>1      </td><td>6          </td><td>626.0             </td><td>630.0             </td><td>901.0             </td><td>915.0             </td><td>UA             </td><td>602.0             </td><td>N808UA   </td><td>95.0               </td><td>105.0             </td><td>81.0              </td><td>-14.0             </td><td>-4.0              </td><td>ORD     </td><td>DCA   </td><td>612.0            </td><td>3.0               </td><td>11.0              </td><td>0.0                </td><td>                  </td><td>0.0       </td><td>0.0               </td><td>0.0               </td><td>0.0               </td><td>0.0            </td><td>0.0                </td><td>NO            </td><td>NO            </td><td>555.0            </td><td>390.0            </td><td>541.0             </td><td>386.0            </td><td>155.0             </td><td>2005-01-01 00:00:00</td><td>41.0             </td><td>25.0              </td><td>33.0              </td><td>0.31               </td><td>0.0               </td><td>0.0  </td><td>32.0              </td><td>0.0  </td></tr>\n",
       "<tr><td>6      </td><td>2           </td><td>2005  </td><td>1      </td><td>7          </td><td>2149.0            </td><td>2130.0            </td><td>2346.0            </td><td>2334.0            </td><td>UA             </td><td>546.0             </td><td>N843UA   </td><td>57.0               </td><td>64.0              </td><td>38.0              </td><td>12.0              </td><td>19.0              </td><td>ORD     </td><td>DAY   </td><td>240.0            </td><td>6.0               </td><td>13.0              </td><td>0.0                </td><td>                  </td><td>0.0       </td><td>0.0               </td><td>0.0               </td><td>0.0               </td><td>0.0            </td><td>0.0                </td><td>YES           </td><td>YES           </td><td>1414.0           </td><td>1290.0           </td><td>1426.0            </td><td>1309.0           </td><td>117.0             </td><td>2005-01-02 00:00:00</td><td>54.0             </td><td>33.0              </td><td>43.5              </td><td>0.08               </td><td>0.0               </td><td>0.0  </td><td>21.5              </td><td>0.0  </td></tr>\n",
       "<tr><td>7      </td><td>2           </td><td>2005  </td><td>1      </td><td>7          </td><td>1714.0            </td><td>1645.0            </td><td>1840.0            </td><td>1803.0            </td><td>UA             </td><td>571.0             </td><td>N366UA   </td><td>86.0               </td><td>78.0              </td><td>59.0              </td><td>37.0              </td><td>29.0              </td><td>ORD     </td><td>DSM   </td><td>299.0            </td><td>5.0               </td><td>22.0              </td><td>0.0                </td><td>                  </td><td>0.0       </td><td>24.0              </td><td>0.0               </td><td>8.0               </td><td>0.0            </td><td>5.0                </td><td>YES           </td><td>YES           </td><td>1083.0           </td><td>1005.0           </td><td>1120.0            </td><td>1034.0           </td><td>86.0              </td><td>2005-01-02 00:00:00</td><td>54.0             </td><td>33.0              </td><td>43.5              </td><td>0.08               </td><td>0.0               </td><td>0.0  </td><td>21.5              </td><td>0.0  </td></tr>\n",
       "<tr><td>8      </td><td>2           </td><td>2005  </td><td>1      </td><td>7          </td><td>2050.0            </td><td>1655.0            </td><td>2315.0            </td><td>1923.0            </td><td>UA             </td><td>583.0             </td><td>N408UA   </td><td>265.0              </td><td>268.0             </td><td>252.0             </td><td>232.0             </td><td>235.0             </td><td>ORD     </td><td>SAN   </td><td>1723.0           </td><td>4.0               </td><td>9.0               </td><td>0.0                </td><td>                  </td><td>0.0       </td><td>42.0              </td><td>0.0               </td><td>0.0               </td><td>0.0            </td><td>190.0              </td><td>YES           </td><td>YES           </td><td>1163.0           </td><td>1015.0           </td><td>1395.0            </td><td>1250.0           </td><td>145.0             </td><td>2005-01-02 00:00:00</td><td>54.0             </td><td>33.0              </td><td>43.5              </td><td>0.08               </td><td>0.0               </td><td>0.0  </td><td>21.5              </td><td>0.0  </td></tr>\n",
       "<tr><td>9      </td><td>3           </td><td>2005  </td><td>1      </td><td>1          </td><td>1201.0            </td><td>1205.0            </td><td>1331.0            </td><td>1329.0            </td><td>UA             </td><td>547.0             </td><td>N433UA   </td><td>90.0               </td><td>84.0              </td><td>60.0              </td><td>2.0               </td><td>-4.0              </td><td>ORD     </td><td>MSP   </td><td>334.0            </td><td>4.0               </td><td>26.0              </td><td>0.0                </td><td>                  </td><td>0.0       </td><td>0.0               </td><td>0.0               </td><td>0.0               </td><td>0.0            </td><td>0.0                </td><td>YES           </td><td>NO            </td><td>809.0            </td><td>725.0            </td><td>811.0             </td><td>721.0            </td><td>90.0              </td><td>2005-01-03 00:00:00</td><td>36.0             </td><td>32.0              </td><td>34.0              </td><td>0.36               </td><td>0.0               </td><td>0.0  </td><td>31.0              </td><td>0.0  </td></tr>\n",
       "</tbody>\n",
       "</table>"
      ]
     },
     "metadata": {},
     "output_type": "display_data"
    }
   ],
   "source": [
    "split_df[0].describe()\n",
    "split_df[1].describe()"
   ]
  },
  {
   "cell_type": "code",
   "execution_count": 21,
   "metadata": {},
   "outputs": [
    {
     "name": "stdout",
     "output_type": "stream",
     "text": [
      "glm Model Build progress: |███████████████████████████████████████████████| 100%\n"
     ]
    }
   ],
   "source": [
    "# GLM\n",
    "from h2o.estimators.glm import H2OGeneralizedLinearEstimator\n",
    "glm = H2OGeneralizedLinearEstimator(family = \"binomial\",\n",
    "                                    standardize = True, \n",
    "                                    alpha = 0.5, \n",
    "                                    lambda_search = True,\n",
    "                                    model_id = 'glm_task3'\n",
    "                                    #compute_p_values = True #only works without regularization (lambda=0)\n",
    "                                    )\n",
    "glm.train(x = Xvar,\n",
    "          y = Yvar,\n",
    "          training_frame = split_df[0],\n",
    "          validation_frame = split_df[1])"
   ]
  },
  {
   "cell_type": "markdown",
   "metadata": {},
   "source": [
    "<b>The classification model performs well, with a good AUC (>0.7) in most cases, but the significant variables that are chosen by the model vary by factors such as:</b>\n",
    "<br/>Dataset (whether we include all flights in and out of ORD or just departing flights)\n",
    "<br/>Filtering flights to match weather data\n",
    "<br/>Regularization - turned on or off"
   ]
  },
  {
   "cell_type": "code",
   "execution_count": 22,
   "metadata": {},
   "outputs": [],
   "source": [
    "#h2o.cluster().shutdown()"
   ]
  },
  {
   "cell_type": "code",
   "execution_count": null,
   "metadata": {},
   "outputs": [],
   "source": []
  }
 ],
 "metadata": {
  "kernelspec": {
   "display_name": "Python 3",
   "language": "python",
   "name": "python3"
  },
  "language_info": {
   "codemirror_mode": {
    "name": "ipython",
    "version": 3
   },
   "file_extension": ".py",
   "mimetype": "text/x-python",
   "name": "python",
   "nbconvert_exporter": "python",
   "pygments_lexer": "ipython3",
   "version": "3.6.8"
  }
 },
 "nbformat": 4,
 "nbformat_minor": 2
}
