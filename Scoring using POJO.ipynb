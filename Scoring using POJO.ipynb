{
 "cells": [
  {
   "cell_type": "code",
   "execution_count": 2,
   "metadata": {},
   "outputs": [
    {
     "name": "stdout",
     "output_type": "stream",
     "text": [
      "Checking whether there is an H2O instance running at http://localhost:54321 . connected.\n"
     ]
    },
    {
     "data": {
      "text/html": [
       "<div style=\"overflow:auto\"><table style=\"width:50%\"><tr><td>H2O cluster uptime:</td>\n",
       "<td>27 mins 02 secs</td></tr>\n",
       "<tr><td>H2O cluster timezone:</td>\n",
       "<td>America/New_York</td></tr>\n",
       "<tr><td>H2O data parsing timezone:</td>\n",
       "<td>UTC</td></tr>\n",
       "<tr><td>H2O cluster version:</td>\n",
       "<td>3.24.0.2</td></tr>\n",
       "<tr><td>H2O cluster version age:</td>\n",
       "<td>13 days </td></tr>\n",
       "<tr><td>H2O cluster name:</td>\n",
       "<td>H2O_from_python_praveen_o5t8lp</td></tr>\n",
       "<tr><td>H2O cluster total nodes:</td>\n",
       "<td>1</td></tr>\n",
       "<tr><td>H2O cluster free memory:</td>\n",
       "<td>2.934 Gb</td></tr>\n",
       "<tr><td>H2O cluster total cores:</td>\n",
       "<td>4</td></tr>\n",
       "<tr><td>H2O cluster allowed cores:</td>\n",
       "<td>4</td></tr>\n",
       "<tr><td>H2O cluster status:</td>\n",
       "<td>locked, healthy</td></tr>\n",
       "<tr><td>H2O connection url:</td>\n",
       "<td>http://localhost:54321</td></tr>\n",
       "<tr><td>H2O connection proxy:</td>\n",
       "<td>None</td></tr>\n",
       "<tr><td>H2O internal security:</td>\n",
       "<td>False</td></tr>\n",
       "<tr><td>H2O API Extensions:</td>\n",
       "<td>Amazon S3, XGBoost, Algos, AutoML, Core V3, Core V4</td></tr>\n",
       "<tr><td>Python version:</td>\n",
       "<td>3.6.8 final</td></tr></table></div>"
      ],
      "text/plain": [
       "--------------------------  ---------------------------------------------------\n",
       "H2O cluster uptime:         27 mins 02 secs\n",
       "H2O cluster timezone:       America/New_York\n",
       "H2O data parsing timezone:  UTC\n",
       "H2O cluster version:        3.24.0.2\n",
       "H2O cluster version age:    13 days\n",
       "H2O cluster name:           H2O_from_python_praveen_o5t8lp\n",
       "H2O cluster total nodes:    1\n",
       "H2O cluster free memory:    2.934 Gb\n",
       "H2O cluster total cores:    4\n",
       "H2O cluster allowed cores:  4\n",
       "H2O cluster status:         locked, healthy\n",
       "H2O connection url:         http://localhost:54321\n",
       "H2O connection proxy:\n",
       "H2O internal security:      False\n",
       "H2O API Extensions:         Amazon S3, XGBoost, Algos, AutoML, Core V3, Core V4\n",
       "Python version:             3.6.8 final\n",
       "--------------------------  ---------------------------------------------------"
      ]
     },
     "metadata": {},
     "output_type": "display_data"
    }
   ],
   "source": [
    "import sys\n",
    "import h2o\n",
    "from h2o.estimators.kmeans import H2OKMeansEstimator\n",
    "h2o.init(nthreads=-1)"
   ]
  },
  {
   "cell_type": "code",
   "execution_count": 3,
   "metadata": {},
   "outputs": [
    {
     "name": "stdout",
     "output_type": "stream",
     "text": [
      "Parse progress: |█████████████████████████████████████████████████████████| 100%\n"
     ]
    },
    {
     "data": {
      "text/html": [
       "<table>\n",
       "<thead>\n",
       "<tr><th style=\"text-align: right;\">  C1</th><th style=\"text-align: right;\">  C2</th><th style=\"text-align: right;\">  C3</th><th style=\"text-align: right;\">  C4</th><th>C5         </th></tr>\n",
       "</thead>\n",
       "<tbody>\n",
       "<tr><td style=\"text-align: right;\"> 5.1</td><td style=\"text-align: right;\"> 3.5</td><td style=\"text-align: right;\"> 1.4</td><td style=\"text-align: right;\"> 0.2</td><td>Iris-setosa</td></tr>\n",
       "<tr><td style=\"text-align: right;\"> 4.9</td><td style=\"text-align: right;\"> 3  </td><td style=\"text-align: right;\"> 1.4</td><td style=\"text-align: right;\"> 0.2</td><td>Iris-setosa</td></tr>\n",
       "<tr><td style=\"text-align: right;\"> 4.7</td><td style=\"text-align: right;\"> 3.2</td><td style=\"text-align: right;\"> 1.3</td><td style=\"text-align: right;\"> 0.2</td><td>Iris-setosa</td></tr>\n",
       "<tr><td style=\"text-align: right;\"> 4.6</td><td style=\"text-align: right;\"> 3.1</td><td style=\"text-align: right;\"> 1.5</td><td style=\"text-align: right;\"> 0.2</td><td>Iris-setosa</td></tr>\n",
       "<tr><td style=\"text-align: right;\"> 5  </td><td style=\"text-align: right;\"> 3.6</td><td style=\"text-align: right;\"> 1.4</td><td style=\"text-align: right;\"> 0.2</td><td>Iris-setosa</td></tr>\n",
       "<tr><td style=\"text-align: right;\"> 5.4</td><td style=\"text-align: right;\"> 3.9</td><td style=\"text-align: right;\"> 1.7</td><td style=\"text-align: right;\"> 0.4</td><td>Iris-setosa</td></tr>\n",
       "<tr><td style=\"text-align: right;\"> 4.6</td><td style=\"text-align: right;\"> 3.4</td><td style=\"text-align: right;\"> 1.4</td><td style=\"text-align: right;\"> 0.3</td><td>Iris-setosa</td></tr>\n",
       "<tr><td style=\"text-align: right;\"> 5  </td><td style=\"text-align: right;\"> 3.4</td><td style=\"text-align: right;\"> 1.5</td><td style=\"text-align: right;\"> 0.2</td><td>Iris-setosa</td></tr>\n",
       "<tr><td style=\"text-align: right;\"> 4.4</td><td style=\"text-align: right;\"> 2.9</td><td style=\"text-align: right;\"> 1.4</td><td style=\"text-align: right;\"> 0.2</td><td>Iris-setosa</td></tr>\n",
       "<tr><td style=\"text-align: right;\"> 4.9</td><td style=\"text-align: right;\"> 3.1</td><td style=\"text-align: right;\"> 1.5</td><td style=\"text-align: right;\"> 0.1</td><td>Iris-setosa</td></tr>\n",
       "</tbody>\n",
       "</table>"
      ]
     },
     "metadata": {},
     "output_type": "display_data"
    },
    {
     "data": {
      "text/plain": []
     },
     "execution_count": 3,
     "metadata": {},
     "output_type": "execute_result"
    }
   ],
   "source": [
    "iris_path = \"../data/iris.data\"\n",
    "iris_hex = h2o.import_file(iris_path, destination_frame='iris_hex')\n",
    "iris_hex"
   ]
  },
  {
   "cell_type": "code",
   "execution_count": 5,
   "metadata": {},
   "outputs": [],
   "source": [
    "iris_km_model = H2OKMeansEstimator(k = 5, model_id=\"iris_km_model\", init='Random', seed=1618, standardize=True)"
   ]
  },
  {
   "cell_type": "code",
   "execution_count": 7,
   "metadata": {},
   "outputs": [
    {
     "name": "stdout",
     "output_type": "stream",
     "text": [
      "kmeans Model Build progress: |████████████████████████████████████████████| 100%\n"
     ]
    }
   ],
   "source": [
    "iris_km_model.train(x=iris_hex.col_names[0:-1], training_frame=iris_hex)\n"
   ]
  },
  {
   "cell_type": "code",
   "execution_count": 8,
   "metadata": {},
   "outputs": [
    {
     "name": "stdout",
     "output_type": "stream",
     "text": [
      "Parse progress: |█████████████████████████████████████████████████████████| 100%\n"
     ]
    },
    {
     "data": {
      "text/html": [
       "<table>\n",
       "<thead>\n",
       "<tr><th style=\"text-align: right;\">     C1</th><th style=\"text-align: right;\">     C2</th><th style=\"text-align: right;\">     C3</th><th style=\"text-align: right;\">      C4</th></tr>\n",
       "</thead>\n",
       "<tbody>\n",
       "<tr><td style=\"text-align: right;\">5.23704</td><td style=\"text-align: right;\">3.68148</td><td style=\"text-align: right;\">1.47778</td><td style=\"text-align: right;\">0.277778</td></tr>\n",
       "<tr><td style=\"text-align: right;\">5.72273</td><td style=\"text-align: right;\">2.63409</td><td style=\"text-align: right;\">4.27273</td><td style=\"text-align: right;\">1.35455 </td></tr>\n",
       "<tr><td style=\"text-align: right;\">6.47045</td><td style=\"text-align: right;\">3.04091</td><td style=\"text-align: right;\">5.15909</td><td style=\"text-align: right;\">1.89545 </td></tr>\n",
       "<tr><td style=\"text-align: right;\">4.73478</td><td style=\"text-align: right;\">3.1087 </td><td style=\"text-align: right;\">1.44783</td><td style=\"text-align: right;\">0.204348</td></tr>\n",
       "<tr><td style=\"text-align: right;\">7.475  </td><td style=\"text-align: right;\">3.125  </td><td style=\"text-align: right;\">6.3    </td><td style=\"text-align: right;\">2.05    </td></tr>\n",
       "</tbody>\n",
       "</table>"
      ]
     },
     "metadata": {},
     "output_type": "display_data"
    },
    {
     "data": {
      "text/plain": []
     },
     "execution_count": 8,
     "metadata": {},
     "output_type": "execute_result"
    }
   ],
   "source": [
    "h2o.H2OFrame(iris_km_model.centers())"
   ]
  },
  {
   "cell_type": "code",
   "execution_count": 9,
   "metadata": {},
   "outputs": [
    {
     "data": {
      "text/plain": [
       "'/home/praveen/h2o/project/models/iris_km_model.java'"
      ]
     },
     "execution_count": 9,
     "metadata": {},
     "output_type": "execute_result"
    }
   ],
   "source": [
    "h2o.download_pojo(iris_km_model, '../models/') #get_jar=True, jar_name='iris_km_model.jar'"
   ]
  },
  {
   "cell_type": "markdown",
   "metadata": {},
   "source": [
    "<b> Java program, comple and execution to be demonstrated from terminal</b>"
   ]
  }
 ],
 "metadata": {
  "kernelspec": {
   "display_name": "Python 3",
   "language": "python",
   "name": "python3"
  },
  "language_info": {
   "codemirror_mode": {
    "name": "ipython",
    "version": 3
   },
   "file_extension": ".py",
   "mimetype": "text/x-python",
   "name": "python",
   "nbconvert_exporter": "python",
   "pygments_lexer": "ipython3",
   "version": "3.6.8"
  }
 },
 "nbformat": 4,
 "nbformat_minor": 2
}
